{
 "cells": [
  {
   "cell_type": "code",
   "execution_count": 1,
   "id": "a034ede7",
   "metadata": {},
   "outputs": [],
   "source": [
    "#loading the necessary libraries\n",
    "import pandas as pd\n",
    "import numpy as np\n",
    "import matplotlib.pyplot as plt\n",
    "import seaborn as sns\n",
    "\n",
    "# This is to remove the warnings if we are getting any\n",
    "from warnings import filterwarnings\n",
    "filterwarnings('ignore')"
   ]
  },
  {
   "cell_type": "markdown",
   "id": "92879ad3",
   "metadata": {},
   "source": [
    "## Loading the train and test dataset"
   ]
  },
  {
   "cell_type": "code",
   "execution_count": 2,
   "id": "2e1391fe",
   "metadata": {},
   "outputs": [
    {
     "data": {
      "text/html": [
       "<div>\n",
       "<style scoped>\n",
       "    .dataframe tbody tr th:only-of-type {\n",
       "        vertical-align: middle;\n",
       "    }\n",
       "\n",
       "    .dataframe tbody tr th {\n",
       "        vertical-align: top;\n",
       "    }\n",
       "\n",
       "    .dataframe thead th {\n",
       "        text-align: right;\n",
       "    }\n",
       "</style>\n",
       "<table border=\"1\" class=\"dataframe\">\n",
       "  <thead>\n",
       "    <tr style=\"text-align: right;\">\n",
       "      <th></th>\n",
       "      <th>Item_Identifier</th>\n",
       "      <th>Item_Weight</th>\n",
       "      <th>Item_Fat_Content</th>\n",
       "      <th>Item_Visibility</th>\n",
       "      <th>Item_Type</th>\n",
       "      <th>Item_MRP</th>\n",
       "      <th>Outlet_Identifier</th>\n",
       "      <th>Outlet_Establishment_Year</th>\n",
       "      <th>Outlet_Size</th>\n",
       "      <th>Outlet_Location_Type</th>\n",
       "      <th>Outlet_Type</th>\n",
       "      <th>Item_Outlet_Sales</th>\n",
       "    </tr>\n",
       "  </thead>\n",
       "  <tbody>\n",
       "    <tr>\n",
       "      <th>0</th>\n",
       "      <td>FDA15</td>\n",
       "      <td>9.30</td>\n",
       "      <td>Low Fat</td>\n",
       "      <td>0.016047</td>\n",
       "      <td>Dairy</td>\n",
       "      <td>249.8092</td>\n",
       "      <td>OUT049</td>\n",
       "      <td>1999</td>\n",
       "      <td>Medium</td>\n",
       "      <td>Tier 1</td>\n",
       "      <td>Supermarket Type1</td>\n",
       "      <td>3735.1380</td>\n",
       "    </tr>\n",
       "    <tr>\n",
       "      <th>1</th>\n",
       "      <td>DRC01</td>\n",
       "      <td>5.92</td>\n",
       "      <td>Regular</td>\n",
       "      <td>0.019278</td>\n",
       "      <td>Soft Drinks</td>\n",
       "      <td>48.2692</td>\n",
       "      <td>OUT018</td>\n",
       "      <td>2009</td>\n",
       "      <td>Medium</td>\n",
       "      <td>Tier 3</td>\n",
       "      <td>Supermarket Type2</td>\n",
       "      <td>443.4228</td>\n",
       "    </tr>\n",
       "    <tr>\n",
       "      <th>2</th>\n",
       "      <td>FDN15</td>\n",
       "      <td>17.50</td>\n",
       "      <td>Low Fat</td>\n",
       "      <td>0.016760</td>\n",
       "      <td>Meat</td>\n",
       "      <td>141.6180</td>\n",
       "      <td>OUT049</td>\n",
       "      <td>1999</td>\n",
       "      <td>Medium</td>\n",
       "      <td>Tier 1</td>\n",
       "      <td>Supermarket Type1</td>\n",
       "      <td>2097.2700</td>\n",
       "    </tr>\n",
       "    <tr>\n",
       "      <th>3</th>\n",
       "      <td>FDX07</td>\n",
       "      <td>19.20</td>\n",
       "      <td>Regular</td>\n",
       "      <td>0.000000</td>\n",
       "      <td>Fruits and Vegetables</td>\n",
       "      <td>182.0950</td>\n",
       "      <td>OUT010</td>\n",
       "      <td>1998</td>\n",
       "      <td>NaN</td>\n",
       "      <td>Tier 3</td>\n",
       "      <td>Grocery Store</td>\n",
       "      <td>732.3800</td>\n",
       "    </tr>\n",
       "    <tr>\n",
       "      <th>4</th>\n",
       "      <td>NCD19</td>\n",
       "      <td>8.93</td>\n",
       "      <td>Low Fat</td>\n",
       "      <td>0.000000</td>\n",
       "      <td>Household</td>\n",
       "      <td>53.8614</td>\n",
       "      <td>OUT013</td>\n",
       "      <td>1987</td>\n",
       "      <td>High</td>\n",
       "      <td>Tier 3</td>\n",
       "      <td>Supermarket Type1</td>\n",
       "      <td>994.7052</td>\n",
       "    </tr>\n",
       "  </tbody>\n",
       "</table>\n",
       "</div>"
      ],
      "text/plain": [
       "  Item_Identifier  Item_Weight Item_Fat_Content  Item_Visibility  \\\n",
       "0           FDA15         9.30          Low Fat         0.016047   \n",
       "1           DRC01         5.92          Regular         0.019278   \n",
       "2           FDN15        17.50          Low Fat         0.016760   \n",
       "3           FDX07        19.20          Regular         0.000000   \n",
       "4           NCD19         8.93          Low Fat         0.000000   \n",
       "\n",
       "               Item_Type  Item_MRP Outlet_Identifier  \\\n",
       "0                  Dairy  249.8092            OUT049   \n",
       "1            Soft Drinks   48.2692            OUT018   \n",
       "2                   Meat  141.6180            OUT049   \n",
       "3  Fruits and Vegetables  182.0950            OUT010   \n",
       "4              Household   53.8614            OUT013   \n",
       "\n",
       "   Outlet_Establishment_Year Outlet_Size Outlet_Location_Type  \\\n",
       "0                       1999      Medium               Tier 1   \n",
       "1                       2009      Medium               Tier 3   \n",
       "2                       1999      Medium               Tier 1   \n",
       "3                       1998         NaN               Tier 3   \n",
       "4                       1987        High               Tier 3   \n",
       "\n",
       "         Outlet_Type  Item_Outlet_Sales  \n",
       "0  Supermarket Type1          3735.1380  \n",
       "1  Supermarket Type2           443.4228  \n",
       "2  Supermarket Type1          2097.2700  \n",
       "3      Grocery Store           732.3800  \n",
       "4  Supermarket Type1           994.7052  "
      ]
     },
     "execution_count": 2,
     "metadata": {},
     "output_type": "execute_result"
    }
   ],
   "source": [
    "train = pd.read_csv('Train.csv')\n",
    "test = pd.read_csv('Test.csv')\n",
    "train.head()"
   ]
  },
  {
   "cell_type": "markdown",
   "id": "ed6a30bd",
   "metadata": {},
   "source": [
    "## Description about the data\n",
    "\n",
    "1. `Item_Identifier`: Unique product ID.\n",
    "\n",
    "\n",
    "2. `Item_Weight`: Weight of product.\n",
    "\n",
    "\n",
    "3. `Item_Fat_Content`: Whether the product is low fat or not.\n",
    "\n",
    "\n",
    "4. `Item_Visibility`: The % of total display area of all products in a store allocated to the particular product\n",
    "\n",
    "\n",
    "5. `Item_Type`: The category to which the product belongs.\n",
    "\n",
    "\n",
    "6. `Item_MRP`: Maximum Retail Price (list price) of the product.\n",
    "\n",
    "\n",
    "7. `Outlet_Identifier`: Unique store ID.\n",
    "\n",
    "\n",
    "8. `Outlet_Establishment_Year`: The year in which store was established.\n",
    "\n",
    "\n",
    "9. `Outlet_Size`: The size of the store in terms of ground area covered.\n",
    "\n",
    "\n",
    "10. `Outlet_Location_Type`: The type of city in which the store is located.\n",
    "\n",
    "\n",
    "11. `Outlet_Type`: Whether the outlet is just a grocery store or some sort of supermarket.\n",
    "\n",
    "\n",
    "12. `Item_Outlet_Sales`: Sales of the product in the particulat store. This is the outcome variable to be predicted.\n"
   ]
  },
  {
   "cell_type": "markdown",
   "id": "0d3906ef",
   "metadata": {},
   "source": [
    "# Exploratory Data Analysis\n",
    "\n",
    "### In Data Analysis We will Analyze To Find out the below stuff\n",
    "\n",
    "1. Missing Values\n",
    "2. All The Numerical Variables\n",
    "3. Distribution of the Numerical Variables\n",
    "4. Categorical Variables\n",
    "5. Cardinality of Categorical Variables\n",
    "6. Outliers\n",
    "7. Relationship between independent and dependent feature(SalePrice)\n",
    "\n",
    "\n",
    "## Checking shapes of dataframe"
   ]
  },
  {
   "cell_type": "code",
   "execution_count": 3,
   "id": "a39f851c",
   "metadata": {},
   "outputs": [
    {
     "data": {
      "text/plain": [
       "(8523, 12)"
      ]
     },
     "execution_count": 3,
     "metadata": {},
     "output_type": "execute_result"
    }
   ],
   "source": [
    "train.shape"
   ]
  },
  {
   "cell_type": "code",
   "execution_count": 4,
   "id": "0f255f0f",
   "metadata": {},
   "outputs": [
    {
     "data": {
      "text/plain": [
       "(5681, 11)"
      ]
     },
     "execution_count": 4,
     "metadata": {},
     "output_type": "execute_result"
    }
   ],
   "source": [
    "test.shape"
   ]
  },
  {
   "cell_type": "markdown",
   "id": "315c99b9",
   "metadata": {},
   "source": [
    "## Stats of data"
   ]
  },
  {
   "cell_type": "code",
   "execution_count": 5,
   "id": "18adc90e",
   "metadata": {},
   "outputs": [
    {
     "data": {
      "text/html": [
       "<div>\n",
       "<style scoped>\n",
       "    .dataframe tbody tr th:only-of-type {\n",
       "        vertical-align: middle;\n",
       "    }\n",
       "\n",
       "    .dataframe tbody tr th {\n",
       "        vertical-align: top;\n",
       "    }\n",
       "\n",
       "    .dataframe thead th {\n",
       "        text-align: right;\n",
       "    }\n",
       "</style>\n",
       "<table border=\"1\" class=\"dataframe\">\n",
       "  <thead>\n",
       "    <tr style=\"text-align: right;\">\n",
       "      <th></th>\n",
       "      <th>Item_Weight</th>\n",
       "      <th>Item_Visibility</th>\n",
       "      <th>Item_MRP</th>\n",
       "      <th>Outlet_Establishment_Year</th>\n",
       "      <th>Item_Outlet_Sales</th>\n",
       "    </tr>\n",
       "  </thead>\n",
       "  <tbody>\n",
       "    <tr>\n",
       "      <th>count</th>\n",
       "      <td>7060.000000</td>\n",
       "      <td>8523.000000</td>\n",
       "      <td>8523.000000</td>\n",
       "      <td>8523.000000</td>\n",
       "      <td>8523.000000</td>\n",
       "    </tr>\n",
       "    <tr>\n",
       "      <th>mean</th>\n",
       "      <td>12.857645</td>\n",
       "      <td>0.066132</td>\n",
       "      <td>140.992782</td>\n",
       "      <td>1997.831867</td>\n",
       "      <td>2181.288914</td>\n",
       "    </tr>\n",
       "    <tr>\n",
       "      <th>std</th>\n",
       "      <td>4.643456</td>\n",
       "      <td>0.051598</td>\n",
       "      <td>62.275067</td>\n",
       "      <td>8.371760</td>\n",
       "      <td>1706.499616</td>\n",
       "    </tr>\n",
       "    <tr>\n",
       "      <th>min</th>\n",
       "      <td>4.555000</td>\n",
       "      <td>0.000000</td>\n",
       "      <td>31.290000</td>\n",
       "      <td>1985.000000</td>\n",
       "      <td>33.290000</td>\n",
       "    </tr>\n",
       "    <tr>\n",
       "      <th>25%</th>\n",
       "      <td>8.773750</td>\n",
       "      <td>0.026989</td>\n",
       "      <td>93.826500</td>\n",
       "      <td>1987.000000</td>\n",
       "      <td>834.247400</td>\n",
       "    </tr>\n",
       "    <tr>\n",
       "      <th>50%</th>\n",
       "      <td>12.600000</td>\n",
       "      <td>0.053931</td>\n",
       "      <td>143.012800</td>\n",
       "      <td>1999.000000</td>\n",
       "      <td>1794.331000</td>\n",
       "    </tr>\n",
       "    <tr>\n",
       "      <th>75%</th>\n",
       "      <td>16.850000</td>\n",
       "      <td>0.094585</td>\n",
       "      <td>185.643700</td>\n",
       "      <td>2004.000000</td>\n",
       "      <td>3101.296400</td>\n",
       "    </tr>\n",
       "    <tr>\n",
       "      <th>max</th>\n",
       "      <td>21.350000</td>\n",
       "      <td>0.328391</td>\n",
       "      <td>266.888400</td>\n",
       "      <td>2009.000000</td>\n",
       "      <td>13086.964800</td>\n",
       "    </tr>\n",
       "  </tbody>\n",
       "</table>\n",
       "</div>"
      ],
      "text/plain": [
       "       Item_Weight  Item_Visibility     Item_MRP  Outlet_Establishment_Year  \\\n",
       "count  7060.000000      8523.000000  8523.000000                8523.000000   \n",
       "mean     12.857645         0.066132   140.992782                1997.831867   \n",
       "std       4.643456         0.051598    62.275067                   8.371760   \n",
       "min       4.555000         0.000000    31.290000                1985.000000   \n",
       "25%       8.773750         0.026989    93.826500                1987.000000   \n",
       "50%      12.600000         0.053931   143.012800                1999.000000   \n",
       "75%      16.850000         0.094585   185.643700                2004.000000   \n",
       "max      21.350000         0.328391   266.888400                2009.000000   \n",
       "\n",
       "       Item_Outlet_Sales  \n",
       "count        8523.000000  \n",
       "mean         2181.288914  \n",
       "std          1706.499616  \n",
       "min            33.290000  \n",
       "25%           834.247400  \n",
       "50%          1794.331000  \n",
       "75%          3101.296400  \n",
       "max         13086.964800  "
      ]
     },
     "execution_count": 5,
     "metadata": {},
     "output_type": "execute_result"
    }
   ],
   "source": [
    "train.describe()"
   ]
  },
  {
   "cell_type": "markdown",
   "id": "fee0cecf",
   "metadata": {},
   "source": [
    "## Here we can see that - \n",
    "\n",
    "1. The minimum MRP of an item is `31.29` year and maximum MRP for an item is `266.88`.\n",
    "2. The minimum sale for an item is `33.29` and maximum Sale for an item is `13086.96`.\n"
   ]
  },
  {
   "cell_type": "markdown",
   "id": "6e908a52",
   "metadata": {},
   "source": [
    "# Features with Nan\n",
    "Finding features which has nan values and also counting the number of nan values in it"
   ]
  },
  {
   "cell_type": "code",
   "execution_count": 6,
   "id": "943bd0cd",
   "metadata": {},
   "outputs": [
    {
     "name": "stdout",
     "output_type": "stream",
     "text": [
      "['Item_Weight', 'Outlet_Size']\n",
      "['Item_Weight', 'Outlet_Size']\n",
      "\n",
      "{'Item_Weight': 1463, 'Outlet_Size': 2410}\n",
      "{'Item_Weight': 976, 'Outlet_Size': 1606}\n"
     ]
    }
   ],
   "source": [
    "# features with na\n",
    "na_features_train = [features for features in train.columns if (train[features].isna().sum()>0)]\n",
    "na_features_test = [features for features in test.columns if (test[features].isna().sum()>0)]\n",
    "\n",
    "print(na_features_train)\n",
    "print(na_features_test)\n",
    "print()\n",
    "\n",
    "\n",
    "#count of features with na\n",
    "na_features_train_count = {features:train[features].isna().sum() for features in na_features_train}\n",
    "na_features_test_count = {features:test[features].isna().sum() for features in na_features_test}\n",
    "\n",
    "print(na_features_train_count)\n",
    "print(na_features_test_count)"
   ]
  },
  {
   "cell_type": "markdown",
   "id": "9a71ccd2",
   "metadata": {},
   "source": [
    "### Checking relationship of null values and target value\n",
    "\n",
    "What I am doing here is replacing the null values with 1 and non null values with 0.\n",
    "\n",
    "Then I am grouping the 1 and 0 with respect to the target variable i.e. Sales and finding the mean and finally plotting them to see if it is needed for Sales or not."
   ]
  },
  {
   "cell_type": "code",
   "execution_count": 7,
   "id": "27c99213",
   "metadata": {},
   "outputs": [
    {
     "data": {
      "image/png": "[encoded data removed]",
      "text/plain": [
       "<Figure size 432x288 with 1 Axes>"
      ]
     },
     "metadata": {
      "needs_background": "light"
     },
     "output_type": "display_data"
    },
    {
     "data": {
      "image/png": "[encoded data removed]",
      "text/plain": [
       "<Figure size 432x288 with 1 Axes>"
      ]
     },
     "metadata": {
      "needs_background": "light"
     },
     "output_type": "display_data"
    }
   ],
   "source": [
    "df = train.copy()\n",
    "\n",
    "for features in na_features_train:\n",
    "    df[features] = np.where(df[features].isna(),1,0)\n",
    "    df.groupby(features)['Item_Outlet_Sales'].mean().plot.bar(color = ['steelblue','orange'])\n",
    "    plt.ylabel('House Price')\n",
    "    plt.title(f'Effect of {features} on Sales')\n",
    "    plt.show()"
   ]
  },
  {
   "cell_type": "markdown",
   "id": "d7d47185",
   "metadata": {},
   "source": [
    "# Observation- \n",
    "We can see that we have some null values in `item_weight` and `outlet_size` but after plotting the graph it is clear that we can not drop those rows because they are contributing in increase sales of the product.\n",
    "Hence, we can see further what we can do with it."
   ]
  },
  {
   "cell_type": "markdown",
   "id": "c5cb7928",
   "metadata": {},
   "source": [
    "## Numerical Features"
   ]
  },
  {
   "cell_type": "code",
   "execution_count": 8,
   "id": "7a84f9c5",
   "metadata": {},
   "outputs": [
    {
     "name": "stdout",
     "output_type": "stream",
     "text": [
      "Index(['Item_Weight', 'Item_Visibility', 'Item_MRP',\n",
      "       'Outlet_Establishment_Year', 'Item_Outlet_Sales'],\n",
      "      dtype='object')\n",
      "Index(['Item_Weight', 'Item_Visibility', 'Item_MRP',\n",
      "       'Outlet_Establishment_Year'],\n",
      "      dtype='object')\n"
     ]
    }
   ],
   "source": [
    "df = train.copy()\n",
    "df1 = test.copy()\n",
    "\n",
    "numerical_features_train = df.select_dtypes(exclude='O').columns\n",
    "numerical_features_test = df1.select_dtypes(exclude='O').columns\n",
    "\n",
    "print(numerical_features_train)\n",
    "print(numerical_features_test)"
   ]
  },
  {
   "cell_type": "markdown",
   "id": "90dc27e8",
   "metadata": {},
   "source": [
    "### DIscrete numerical features"
   ]
  },
  {
   "cell_type": "markdown",
   "id": "60b805cf",
   "metadata": {},
   "source": [
    "As this is a small dataset we can manually see that there are `no discrete variable`.\n",
    "\n",
    "But we have a datetime feature we are considering as a `Temporal` variable."
   ]
  },
  {
   "cell_type": "code",
   "execution_count": 9,
   "id": "f77d1eaa",
   "metadata": {},
   "outputs": [
    {
     "data": {
      "image/png": "[encoded data removed]",
      "text/plain": [
       "<Figure size 432x288 with 1 Axes>"
      ]
     },
     "metadata": {
      "needs_background": "light"
     },
     "output_type": "display_data"
    }
   ],
   "source": [
    "# let's analyze the temporal variable vs Sales\n",
    "df = train.copy()\n",
    "\n",
    "mean_year = df.groupby('Outlet_Establishment_Year')['Item_Outlet_Sales'].mean().plot.bar()\n",
    "plt.xlabel('Year')\n",
    "plt.ylabel('Sales')\n",
    "plt.show()"
   ]
  },
  {
   "cell_type": "markdown",
   "id": "eb501294",
   "metadata": {},
   "source": [
    "# Observation - \n",
    "\n",
    "1. The stores which was established in `1998` has the lowest sales.\n",
    "2. The stores which was established in `1985` has the highest sales.\n"
   ]
  },
  {
   "cell_type": "markdown",
   "id": "27cf6e7e",
   "metadata": {},
   "source": [
    "### Continuous numerical features"
   ]
  },
  {
   "cell_type": "code",
   "execution_count": 10,
   "id": "ab1c1650",
   "metadata": {},
   "outputs": [
    {
     "name": "stdout",
     "output_type": "stream",
     "text": [
      "['Item_Weight', 'Item_Visibility', 'Item_MRP', 'Item_Outlet_Sales']\n",
      "['Item_Weight', 'Item_Visibility', 'Item_MRP']\n"
     ]
    }
   ],
   "source": [
    "continuous_numerical_features_train= [features for features in numerical_features_train if features != 'Outlet_Establishment_Year']\n",
    "continuous_numerical_features_test = [features for features in numerical_features_test  if features != 'Outlet_Establishment_Year']\n",
    "\n",
    "print(continuous_numerical_features_train)\n",
    "print(continuous_numerical_features_test)"
   ]
  },
  {
   "cell_type": "markdown",
   "id": "50469d87",
   "metadata": {},
   "source": [
    "### Checking the distribution of numerical features"
   ]
  },
  {
   "cell_type": "code",
   "execution_count": 11,
   "id": "063b6297",
   "metadata": {},
   "outputs": [
    {
     "data": {
      "image/png": "[encoded data removed]",
      "text/plain": [
       "<Figure size 1440x1080 with 4 Axes>"
      ]
     },
     "metadata": {
      "needs_background": "light"
     },
     "output_type": "display_data"
    }
   ],
   "source": [
    "df = train.copy()\n",
    "df[continuous_numerical_features_train].hist(bins=20,figsize=(20,15))\n",
    "plt.show()"
   ]
  },
  {
   "cell_type": "markdown",
   "id": "0457fd73",
   "metadata": {},
   "source": [
    "## Checking outlier"
   ]
  },
  {
   "cell_type": "code",
   "execution_count": 12,
   "id": "7f411344",
   "metadata": {},
   "outputs": [
    {
     "data": {
      "image/png": "[encoded data removed]",
      "text/plain": [
       "<Figure size 432x288 with 1 Axes>"
      ]
     },
     "metadata": {
      "needs_background": "light"
     },
     "output_type": "display_data"
    },
    {
     "data": {
      "image/png": "[encoded data removed]",
      "text/plain": [
       "<Figure size 432x288 with 1 Axes>"
      ]
     },
     "metadata": {
      "needs_background": "light"
     },
     "output_type": "display_data"
    },
    {
     "data": {
      "image/png": "[encoded data removed]",
      "text/plain": [
       "<Figure size 432x288 with 1 Axes>"
      ]
     },
     "metadata": {
      "needs_background": "light"
     },
     "output_type": "display_data"
    },
    {
     "data": {
      "image/png": "[encoded data removed]",
      "text/plain": [
       "<Figure size 432x288 with 1 Axes>"
      ]
     },
     "metadata": {
      "needs_background": "light"
     },
     "output_type": "display_data"
    }
   ],
   "source": [
    "df = train.copy()\n",
    "for features in continuous_numerical_features_train:\n",
    "    df.boxplot(column=features)\n",
    "    plt.title(features)\n",
    "    plt.show()"
   ]
  },
  {
   "cell_type": "markdown",
   "id": "b13641b3",
   "metadata": {},
   "source": [
    "We can see that there are some outliers in `item visibility`"
   ]
  },
  {
   "cell_type": "markdown",
   "id": "6f5a62e9",
   "metadata": {},
   "source": [
    "## Categorical Features"
   ]
  },
  {
   "cell_type": "code",
   "execution_count": 13,
   "id": "665e8811",
   "metadata": {},
   "outputs": [
    {
     "name": "stdout",
     "output_type": "stream",
     "text": [
      "Index(['Item_Identifier', 'Item_Fat_Content', 'Item_Type', 'Outlet_Identifier',\n",
      "       'Outlet_Size', 'Outlet_Location_Type', 'Outlet_Type'],\n",
      "      dtype='object')\n",
      "Index(['Item_Identifier', 'Item_Fat_Content', 'Item_Type', 'Outlet_Identifier',\n",
      "       'Outlet_Size', 'Outlet_Location_Type', 'Outlet_Type'],\n",
      "      dtype='object')\n"
     ]
    }
   ],
   "source": [
    "df = train.copy()\n",
    "df1 = test.copy()\n",
    "\n",
    "categorical_features_train = df.select_dtypes(include='O').columns\n",
    "categorical_features_test = df1.select_dtypes(include='O').columns\n",
    "\n",
    "print(categorical_features_train)\n",
    "print(categorical_features_test)"
   ]
  },
  {
   "cell_type": "code",
   "execution_count": 14,
   "id": "4722e16d",
   "metadata": {},
   "outputs": [],
   "source": [
    "ordinal_categorical_features = ['Item_Fat_Content','Outlet_Size','Outlet_Location_Type']\n",
    "nominal_categorical_features = ['Item_Type','Outlet_Type']"
   ]
  },
  {
   "cell_type": "markdown",
   "id": "0ea83c2e",
   "metadata": {},
   "source": [
    "## Cardinality of categorical features"
   ]
  },
  {
   "cell_type": "code",
   "execution_count": 15,
   "id": "837af9c6",
   "metadata": {},
   "outputs": [
    {
     "name": "stdout",
     "output_type": "stream",
     "text": [
      "{'Outlet_Location_Type': 3, 'Outlet_Size': 4, 'Outlet_Type': 4, 'Item_Fat_Content': 5, 'Outlet_Identifier': 10, 'Item_Type': 16, 'Item_Identifier': 1559}\n",
      "{'Outlet_Location_Type': 3, 'Outlet_Size': 4, 'Outlet_Type': 4, 'Item_Fat_Content': 5, 'Outlet_Identifier': 10, 'Item_Type': 16, 'Item_Identifier': 1543}\n"
     ]
    }
   ],
   "source": [
    "categories_count_train = {features:len(df[features].unique()) for features in categorical_features_train}\n",
    "categories_count_train = dict(sorted(categories_count_train.items(), key = lambda ele: ele[1]))\n",
    "print(categories_count_train)\n",
    "\n",
    "\n",
    "categories_count_test = {features:len(df1[features].unique()) for features in categorical_features_test}\n",
    "categories_count_test = dict(sorted(categories_count_test.items(), key = lambda ele: ele[1]))\n",
    "print(categories_count_test)"
   ]
  },
  {
   "cell_type": "markdown",
   "id": "a162ae15",
   "metadata": {},
   "source": [
    "### Checking relationship of these features with target"
   ]
  },
  {
   "cell_type": "code",
   "execution_count": 16,
   "id": "8fbe9137",
   "metadata": {},
   "outputs": [
    {
     "data": {
      "image/png": "[encoded data removed]",
      "text/plain": [
       "<Figure size 432x288 with 1 Axes>"
      ]
     },
     "metadata": {
      "needs_background": "light"
     },
     "output_type": "display_data"
    },
    {
     "data": {
      "image/png": "[encoded data removed]",
      "text/plain": [
       "<Figure size 432x288 with 1 Axes>"
      ]
     },
     "metadata": {
      "needs_background": "light"
     },
     "output_type": "display_data"
    },
    {
     "data": {
      "image/png": "[encoded data removed]",
      "text/plain": [
       "<Figure size 432x288 with 1 Axes>"
      ]
     },
     "metadata": {
      "needs_background": "light"
     },
     "output_type": "display_data"
    },
    {
     "data": {
      "image/png": "[encoded data removed]",
      "text/plain": [
       "<Figure size 432x288 with 1 Axes>"
      ]
     },
     "metadata": {
      "needs_background": "light"
     },
     "output_type": "display_data"
    },
    {
     "data": {
      "image/png": "[encoded data removed]",
      "text/plain": [
       "<Figure size 432x288 with 1 Axes>"
      ]
     },
     "metadata": {
      "needs_background": "light"
     },
     "output_type": "display_data"
    },
    {
     "data": {
      "image/png": "[encoded data removed]",
      "text/plain": [
       "<Figure size 432x288 with 1 Axes>"
      ]
     },
     "metadata": {
      "needs_background": "light"
     },
     "output_type": "display_data"
    }
   ],
   "source": [
    "for features in categorical_features_train:\n",
    "    if features != 'Item_Identifier':\n",
    "        df.groupby(features)['Item_Outlet_Sales'].mean().plot(kind='bar',color=['cornflowerblue','darkorange','darkkhaki','pink','green'])\n",
    "        plt.show()"
   ]
  },
  {
   "cell_type": "markdown",
   "id": "c3600034",
   "metadata": {},
   "source": [
    "# Observation -\n",
    "\n",
    "1. Item which has `Regular Fat` are sold more.\n",
    "\n",
    "2. Some products like - `Breads`, `Dairy`, `Fruits and Vegetables`, `Household`, `Seafood`, `Starchy Foods` are sold more.\n",
    "\n",
    "3. There is more sale in outlets which are of `medium` size.\n",
    "\n",
    "4. Oulets which are located in `tier 2` cities have more sales.\n",
    "\n",
    "5. There are more sales from `Supermarket`."
   ]
  },
  {
   "cell_type": "markdown",
   "id": "7b0b3f80",
   "metadata": {},
   "source": [
    "## Checking Correlation"
   ]
  },
  {
   "cell_type": "code",
   "execution_count": 17,
   "id": "11145aee",
   "metadata": {},
   "outputs": [
    {
     "data": {
      "image/png": "[encoded data removed]",
      "text/plain": [
       "<Figure size 864x576 with 2 Axes>"
      ]
     },
     "metadata": {
      "needs_background": "light"
     },
     "output_type": "display_data"
    }
   ],
   "source": [
    "plt.figure(figsize=(12,8))\n",
    "sns.heatmap(train.corr(),annot=True,vmin=-1,vmax=1,cmap='viridis')\n",
    "plt.show()"
   ]
  },
  {
   "cell_type": "markdown",
   "id": "229b283a",
   "metadata": {},
   "source": [
    "No two features are hoghly correlated and hence we can assume our features to be `indpendent`."
   ]
  },
  {
   "cell_type": "markdown",
   "id": "d0939f9d",
   "metadata": {},
   "source": [
    "# Feature Engineering"
   ]
  },
  {
   "cell_type": "markdown",
   "id": "afecffa7",
   "metadata": {},
   "source": [
    "### Combining train and test dataset"
   ]
  },
  {
   "cell_type": "code",
   "execution_count": 18,
   "id": "6bbcec91",
   "metadata": {},
   "outputs": [],
   "source": [
    "# train = train.set_index('Outlet_Identifier')\n",
    "# test = test.set_index('Outlet_Identifier')"
   ]
  },
  {
   "cell_type": "code",
   "execution_count": 19,
   "id": "634ff28f",
   "metadata": {},
   "outputs": [],
   "source": [
    "# df = pd.concat([train,test],axis=0)\n",
    "# df"
   ]
  },
  {
   "cell_type": "markdown",
   "id": "24e46faf",
   "metadata": {},
   "source": [
    "Item fat content shows that whether the item contains low fat or not but in the data we have different name for the same options like - \n",
    "\n",
    "1. `LF` and `low fat` for `Low Fat`.\n",
    "2. `reg` for `Regular`.\n",
    "\n",
    "So i will be replacing them with their corresponding names"
   ]
  },
  {
   "cell_type": "code",
   "execution_count": 20,
   "id": "2e7659aa",
   "metadata": {},
   "outputs": [
    {
     "name": "stdout",
     "output_type": "stream",
     "text": [
      "['Low Fat' 'Regular' 'low fat' 'LF' 'reg']\n",
      "['Low Fat' 'reg' 'Regular' 'LF' 'low fat']\n"
     ]
    }
   ],
   "source": [
    "print(train['Item_Fat_Content'].unique())\n",
    "print(test['Item_Fat_Content'].unique())"
   ]
  },
  {
   "cell_type": "markdown",
   "id": "d787d38e",
   "metadata": {},
   "source": [
    "### Making a function for the same"
   ]
  },
  {
   "cell_type": "code",
   "execution_count": 21,
   "id": "066f863c",
   "metadata": {},
   "outputs": [],
   "source": [
    "def change_names(text):\n",
    "    new_text = ''\n",
    "    if (text == 'low fat') or (text == 'LF'):\n",
    "        new_text = 'Low Fat'\n",
    "    elif (text == 'reg'):\n",
    "        new_text = 'Regular'\n",
    "    else:\n",
    "        new_text = text\n",
    "        \n",
    "    return new_text"
   ]
  },
  {
   "cell_type": "code",
   "execution_count": 22,
   "id": "4b62a503",
   "metadata": {},
   "outputs": [],
   "source": [
    "# Applying the function to train and test dataset\n",
    "\n",
    "train['Item_Fat_Content'] = train['Item_Fat_Content'].apply(change_names)\n",
    "test['Item_Fat_Content'] = test['Item_Fat_Content'].apply(change_names)"
   ]
  },
  {
   "cell_type": "code",
   "execution_count": 23,
   "id": "220c723b",
   "metadata": {},
   "outputs": [
    {
     "name": "stdout",
     "output_type": "stream",
     "text": [
      "['Low Fat' 'Regular']\n",
      "['Low Fat' 'Regular']\n"
     ]
    }
   ],
   "source": [
    "print(train['Item_Fat_Content'].unique())\n",
    "print(test['Item_Fat_Content'].unique())"
   ]
  },
  {
   "cell_type": "markdown",
   "id": "cd71fda9",
   "metadata": {},
   "source": [
    "Now we can see that we have only 2 category - Low fat and regular"
   ]
  },
  {
   "cell_type": "markdown",
   "id": "e54a33dd",
   "metadata": {},
   "source": [
    "## Handling Missing values"
   ]
  },
  {
   "cell_type": "code",
   "execution_count": 24,
   "id": "6bc80a92",
   "metadata": {},
   "outputs": [
    {
     "data": {
      "text/plain": [
       "Item_Identifier                 0\n",
       "Item_Weight                  1463\n",
       "Item_Fat_Content                0\n",
       "Item_Visibility                 0\n",
       "Item_Type                       0\n",
       "Item_MRP                        0\n",
       "Outlet_Identifier               0\n",
       "Outlet_Establishment_Year       0\n",
       "Outlet_Size                  2410\n",
       "Outlet_Location_Type            0\n",
       "Outlet_Type                     0\n",
       "Item_Outlet_Sales               0\n",
       "dtype: int64"
      ]
     },
     "execution_count": 24,
     "metadata": {},
     "output_type": "execute_result"
    }
   ],
   "source": [
    "train.isnull().sum()"
   ]
  },
  {
   "cell_type": "code",
   "execution_count": 25,
   "id": "93082ebd",
   "metadata": {},
   "outputs": [
    {
     "data": {
      "text/plain": [
       "Item_Identifier                 0\n",
       "Item_Weight                   976\n",
       "Item_Fat_Content                0\n",
       "Item_Visibility                 0\n",
       "Item_Type                       0\n",
       "Item_MRP                        0\n",
       "Outlet_Identifier               0\n",
       "Outlet_Establishment_Year       0\n",
       "Outlet_Size                  1606\n",
       "Outlet_Location_Type            0\n",
       "Outlet_Type                     0\n",
       "dtype: int64"
      ]
     },
     "execution_count": 25,
     "metadata": {},
     "output_type": "execute_result"
    }
   ],
   "source": [
    "test.isnull().sum()"
   ]
  },
  {
   "cell_type": "markdown",
   "id": "0937f311",
   "metadata": {},
   "source": [
    "### Filling Item weight with it's mean\n",
    "\n",
    "We are not using `median` because we do not have any outliers in it."
   ]
  },
  {
   "cell_type": "code",
   "execution_count": 26,
   "id": "f10a5a9d",
   "metadata": {},
   "outputs": [],
   "source": [
    "# Train\n",
    "train['Item_Weight'] = train['Item_Weight'].fillna(train['Item_Weight'].mean())\n",
    "\n",
    "# Test\n",
    "test['Item_Weight'] = test['Item_Weight'].fillna(test['Item_Weight'].mean())"
   ]
  },
  {
   "cell_type": "markdown",
   "id": "dbd4cfbe",
   "metadata": {},
   "source": [
    "### Filling Outlet Size\n",
    "\n",
    "What I am doing here is Grouping the Outlet location with Outlet size and figuring out that Which location has which type of store(The count)."
   ]
  },
  {
   "cell_type": "code",
   "execution_count": 27,
   "id": "e8886ab9",
   "metadata": {},
   "outputs": [
    {
     "data": {
      "text/plain": [
       "Outlet_Location_Type  Outlet_Size\n",
       "Tier 1                Small          1458\n",
       "                      Medium          930\n",
       "Tier 2                Small           930\n",
       "Tier 3                Medium         1863\n",
       "                      High            932\n",
       "Name: Outlet_Size, dtype: int64"
      ]
     },
     "execution_count": 27,
     "metadata": {},
     "output_type": "execute_result"
    }
   ],
   "source": [
    "train.groupby('Outlet_Location_Type')['Outlet_Size'].value_counts()"
   ]
  },
  {
   "cell_type": "code",
   "execution_count": 28,
   "id": "d0578013",
   "metadata": {},
   "outputs": [
    {
     "data": {
      "text/plain": [
       "Outlet_Location_Type  Outlet_Size\n",
       "Tier 1                Small           972\n",
       "                      Medium          620\n",
       "Tier 2                Small           620\n",
       "Tier 3                Medium         1242\n",
       "                      High            621\n",
       "Name: Outlet_Size, dtype: int64"
      ]
     },
     "execution_count": 28,
     "metadata": {},
     "output_type": "execute_result"
    }
   ],
   "source": [
    "test.groupby('Outlet_Location_Type')['Outlet_Size'].value_counts()"
   ]
  },
  {
   "cell_type": "markdown",
   "id": "839ab7ad",
   "metadata": {},
   "source": [
    "From this data we can see that - \n",
    "\n",
    "1. Tier 1 has more `Small` outlets.\n",
    "2. Tier 2 has only `Small` outlets.\n",
    "3. Tier 3 has more `Medium` outlets."
   ]
  },
  {
   "cell_type": "code",
   "execution_count": 29,
   "id": "a0fff6ec",
   "metadata": {},
   "outputs": [],
   "source": [
    "col = 'Outlet_Location_Type'\n",
    "\n",
    "conditions_train  = [ (train[col] == 'Tier 1'),(train[col] == 'Tier 2'),(train[col] == 'Tier 3')]\n",
    "conditions_test  = [ (test[col] == 'Tier 1'),(test[col] == 'Tier 2'),(test[col] == 'Tier 3')]\n",
    "\n",
    "choices     = [ \"Small\", 'Small', 'Medium' ]\n",
    "    \n",
    "train[\"Outlet_Size\"] = np.select(conditions_train, choices, default=np.nan)\n",
    "test[\"Outlet_Size\"] = np.select(conditions_test, choices, default=np.nan)"
   ]
  },
  {
   "cell_type": "code",
   "execution_count": 30,
   "id": "17359038",
   "metadata": {},
   "outputs": [
    {
     "data": {
      "text/plain": [
       "Item_Identifier              0\n",
       "Item_Weight                  0\n",
       "Item_Fat_Content             0\n",
       "Item_Visibility              0\n",
       "Item_Type                    0\n",
       "Item_MRP                     0\n",
       "Outlet_Identifier            0\n",
       "Outlet_Establishment_Year    0\n",
       "Outlet_Size                  0\n",
       "Outlet_Location_Type         0\n",
       "Outlet_Type                  0\n",
       "Item_Outlet_Sales            0\n",
       "dtype: int64"
      ]
     },
     "execution_count": 30,
     "metadata": {},
     "output_type": "execute_result"
    }
   ],
   "source": [
    "train.isnull().sum()"
   ]
  },
  {
   "cell_type": "code",
   "execution_count": 31,
   "id": "95ccb922",
   "metadata": {},
   "outputs": [
    {
     "data": {
      "text/plain": [
       "Item_Identifier              0\n",
       "Item_Weight                  0\n",
       "Item_Fat_Content             0\n",
       "Item_Visibility              0\n",
       "Item_Type                    0\n",
       "Item_MRP                     0\n",
       "Outlet_Identifier            0\n",
       "Outlet_Establishment_Year    0\n",
       "Outlet_Size                  0\n",
       "Outlet_Location_Type         0\n",
       "Outlet_Type                  0\n",
       "dtype: int64"
      ]
     },
     "execution_count": 31,
     "metadata": {},
     "output_type": "execute_result"
    }
   ],
   "source": [
    "test.isnull().sum()"
   ]
  },
  {
   "cell_type": "markdown",
   "id": "92df0475",
   "metadata": {},
   "source": [
    "Now we can see that there are no null values in our dataset."
   ]
  },
  {
   "cell_type": "code",
   "execution_count": 32,
   "id": "a83b2500",
   "metadata": {},
   "outputs": [],
   "source": [
    "# Dropping column which is of no use.\n",
    "\n",
    "train = train[['Item_Type','Item_MRP','Outlet_Type','Item_Outlet_Sales']]\n",
    "test = test[['Item_Type','Item_MRP','Outlet_Type']]"
   ]
  },
  {
   "cell_type": "code",
   "execution_count": 33,
   "id": "c19e70ce",
   "metadata": {},
   "outputs": [
    {
     "data": {
      "text/html": [
       "<div>\n",
       "<style scoped>\n",
       "    .dataframe tbody tr th:only-of-type {\n",
       "        vertical-align: middle;\n",
       "    }\n",
       "\n",
       "    .dataframe tbody tr th {\n",
       "        vertical-align: top;\n",
       "    }\n",
       "\n",
       "    .dataframe thead th {\n",
       "        text-align: right;\n",
       "    }\n",
       "</style>\n",
       "<table border=\"1\" class=\"dataframe\">\n",
       "  <thead>\n",
       "    <tr style=\"text-align: right;\">\n",
       "      <th></th>\n",
       "      <th>Item_Type</th>\n",
       "      <th>Item_MRP</th>\n",
       "      <th>Outlet_Type</th>\n",
       "      <th>Item_Outlet_Sales</th>\n",
       "    </tr>\n",
       "  </thead>\n",
       "  <tbody>\n",
       "    <tr>\n",
       "      <th>0</th>\n",
       "      <td>Dairy</td>\n",
       "      <td>249.8092</td>\n",
       "      <td>Supermarket Type1</td>\n",
       "      <td>3735.1380</td>\n",
       "    </tr>\n",
       "    <tr>\n",
       "      <th>1</th>\n",
       "      <td>Soft Drinks</td>\n",
       "      <td>48.2692</td>\n",
       "      <td>Supermarket Type2</td>\n",
       "      <td>443.4228</td>\n",
       "    </tr>\n",
       "    <tr>\n",
       "      <th>2</th>\n",
       "      <td>Meat</td>\n",
       "      <td>141.6180</td>\n",
       "      <td>Supermarket Type1</td>\n",
       "      <td>2097.2700</td>\n",
       "    </tr>\n",
       "    <tr>\n",
       "      <th>3</th>\n",
       "      <td>Fruits and Vegetables</td>\n",
       "      <td>182.0950</td>\n",
       "      <td>Grocery Store</td>\n",
       "      <td>732.3800</td>\n",
       "    </tr>\n",
       "    <tr>\n",
       "      <th>4</th>\n",
       "      <td>Household</td>\n",
       "      <td>53.8614</td>\n",
       "      <td>Supermarket Type1</td>\n",
       "      <td>994.7052</td>\n",
       "    </tr>\n",
       "    <tr>\n",
       "      <th>...</th>\n",
       "      <td>...</td>\n",
       "      <td>...</td>\n",
       "      <td>...</td>\n",
       "      <td>...</td>\n",
       "    </tr>\n",
       "    <tr>\n",
       "      <th>8518</th>\n",
       "      <td>Snack Foods</td>\n",
       "      <td>214.5218</td>\n",
       "      <td>Supermarket Type1</td>\n",
       "      <td>2778.3834</td>\n",
       "    </tr>\n",
       "    <tr>\n",
       "      <th>8519</th>\n",
       "      <td>Baking Goods</td>\n",
       "      <td>108.1570</td>\n",
       "      <td>Supermarket Type1</td>\n",
       "      <td>549.2850</td>\n",
       "    </tr>\n",
       "    <tr>\n",
       "      <th>8520</th>\n",
       "      <td>Health and Hygiene</td>\n",
       "      <td>85.1224</td>\n",
       "      <td>Supermarket Type1</td>\n",
       "      <td>1193.1136</td>\n",
       "    </tr>\n",
       "    <tr>\n",
       "      <th>8521</th>\n",
       "      <td>Snack Foods</td>\n",
       "      <td>103.1332</td>\n",
       "      <td>Supermarket Type2</td>\n",
       "      <td>1845.5976</td>\n",
       "    </tr>\n",
       "    <tr>\n",
       "      <th>8522</th>\n",
       "      <td>Soft Drinks</td>\n",
       "      <td>75.4670</td>\n",
       "      <td>Supermarket Type1</td>\n",
       "      <td>765.6700</td>\n",
       "    </tr>\n",
       "  </tbody>\n",
       "</table>\n",
       "<p>8523 rows × 4 columns</p>\n",
       "</div>"
      ],
      "text/plain": [
       "                  Item_Type  Item_MRP        Outlet_Type  Item_Outlet_Sales\n",
       "0                     Dairy  249.8092  Supermarket Type1          3735.1380\n",
       "1               Soft Drinks   48.2692  Supermarket Type2           443.4228\n",
       "2                      Meat  141.6180  Supermarket Type1          2097.2700\n",
       "3     Fruits and Vegetables  182.0950      Grocery Store           732.3800\n",
       "4                 Household   53.8614  Supermarket Type1           994.7052\n",
       "...                     ...       ...                ...                ...\n",
       "8518            Snack Foods  214.5218  Supermarket Type1          2778.3834\n",
       "8519           Baking Goods  108.1570  Supermarket Type1           549.2850\n",
       "8520     Health and Hygiene   85.1224  Supermarket Type1          1193.1136\n",
       "8521            Snack Foods  103.1332  Supermarket Type2          1845.5976\n",
       "8522            Soft Drinks   75.4670  Supermarket Type1           765.6700\n",
       "\n",
       "[8523 rows x 4 columns]"
      ]
     },
     "execution_count": 33,
     "metadata": {},
     "output_type": "execute_result"
    }
   ],
   "source": [
    "train"
   ]
  },
  {
   "cell_type": "markdown",
   "id": "9a1d7068",
   "metadata": {},
   "source": [
    "# One hot encoding\n",
    "\n",
    "This is for `Nominal categorical` variables."
   ]
  },
  {
   "cell_type": "code",
   "execution_count": 34,
   "id": "e88bf786",
   "metadata": {},
   "outputs": [],
   "source": [
    "# Train\n",
    "for features in nominal_categorical_features:\n",
    "    # Train\n",
    "    dummy = pd.get_dummies(train[features],drop_first=True)\n",
    "    train = pd.concat([train,dummy],axis=1)\n",
    "    train.drop(features,axis=1,inplace=True)\n",
    "    \n",
    "    # Test\n",
    "    dummy1 = pd.get_dummies(test[features],drop_first=True)\n",
    "    test = pd.concat([test,dummy1],axis=1)\n",
    "    test.drop(features,axis=1,inplace=True)"
   ]
  },
  {
   "cell_type": "code",
   "execution_count": 35,
   "id": "532c8432",
   "metadata": {},
   "outputs": [],
   "source": [
    "# from sklearn.preprocessing import LabelEncoder\n",
    "# le = LabelEncoder()\n",
    "\n",
    "# # Train\n",
    "# train['Outlet_Location_Type'] = le.fit_transform(train['Outlet_Location_Type'])\n",
    "# print(features, le.classes_)\n",
    "\n",
    "# # Test\n",
    "# test['Outlet_Location_Type'] = le.transform(test['Outlet_Location_Type'])\n",
    "# print(features, le.classes_)\n",
    "# print()"
   ]
  },
  {
   "cell_type": "code",
   "execution_count": 36,
   "id": "3fd5bde8",
   "metadata": {},
   "outputs": [
    {
     "data": {
      "text/html": [
       "<div>\n",
       "<style scoped>\n",
       "    .dataframe tbody tr th:only-of-type {\n",
       "        vertical-align: middle;\n",
       "    }\n",
       "\n",
       "    .dataframe tbody tr th {\n",
       "        vertical-align: top;\n",
       "    }\n",
       "\n",
       "    .dataframe thead th {\n",
       "        text-align: right;\n",
       "    }\n",
       "</style>\n",
       "<table border=\"1\" class=\"dataframe\">\n",
       "  <thead>\n",
       "    <tr style=\"text-align: right;\">\n",
       "      <th></th>\n",
       "      <th>Item_MRP</th>\n",
       "      <th>Item_Outlet_Sales</th>\n",
       "      <th>Breads</th>\n",
       "      <th>Breakfast</th>\n",
       "      <th>Canned</th>\n",
       "      <th>Dairy</th>\n",
       "      <th>Frozen Foods</th>\n",
       "      <th>Fruits and Vegetables</th>\n",
       "      <th>Hard Drinks</th>\n",
       "      <th>Health and Hygiene</th>\n",
       "      <th>Household</th>\n",
       "      <th>Meat</th>\n",
       "      <th>Others</th>\n",
       "      <th>Seafood</th>\n",
       "      <th>Snack Foods</th>\n",
       "      <th>Soft Drinks</th>\n",
       "      <th>Starchy Foods</th>\n",
       "      <th>Supermarket Type1</th>\n",
       "      <th>Supermarket Type2</th>\n",
       "      <th>Supermarket Type3</th>\n",
       "    </tr>\n",
       "  </thead>\n",
       "  <tbody>\n",
       "    <tr>\n",
       "      <th>0</th>\n",
       "      <td>249.8092</td>\n",
       "      <td>3735.1380</td>\n",
       "      <td>0</td>\n",
       "      <td>0</td>\n",
       "      <td>0</td>\n",
       "      <td>1</td>\n",
       "      <td>0</td>\n",
       "      <td>0</td>\n",
       "      <td>0</td>\n",
       "      <td>0</td>\n",
       "      <td>0</td>\n",
       "      <td>0</td>\n",
       "      <td>0</td>\n",
       "      <td>0</td>\n",
       "      <td>0</td>\n",
       "      <td>0</td>\n",
       "      <td>0</td>\n",
       "      <td>1</td>\n",
       "      <td>0</td>\n",
       "      <td>0</td>\n",
       "    </tr>\n",
       "    <tr>\n",
       "      <th>1</th>\n",
       "      <td>48.2692</td>\n",
       "      <td>443.4228</td>\n",
       "      <td>0</td>\n",
       "      <td>0</td>\n",
       "      <td>0</td>\n",
       "      <td>0</td>\n",
       "      <td>0</td>\n",
       "      <td>0</td>\n",
       "      <td>0</td>\n",
       "      <td>0</td>\n",
       "      <td>0</td>\n",
       "      <td>0</td>\n",
       "      <td>0</td>\n",
       "      <td>0</td>\n",
       "      <td>0</td>\n",
       "      <td>1</td>\n",
       "      <td>0</td>\n",
       "      <td>0</td>\n",
       "      <td>1</td>\n",
       "      <td>0</td>\n",
       "    </tr>\n",
       "    <tr>\n",
       "      <th>2</th>\n",
       "      <td>141.6180</td>\n",
       "      <td>2097.2700</td>\n",
       "      <td>0</td>\n",
       "      <td>0</td>\n",
       "      <td>0</td>\n",
       "      <td>0</td>\n",
       "      <td>0</td>\n",
       "      <td>0</td>\n",
       "      <td>0</td>\n",
       "      <td>0</td>\n",
       "      <td>0</td>\n",
       "      <td>1</td>\n",
       "      <td>0</td>\n",
       "      <td>0</td>\n",
       "      <td>0</td>\n",
       "      <td>0</td>\n",
       "      <td>0</td>\n",
       "      <td>1</td>\n",
       "      <td>0</td>\n",
       "      <td>0</td>\n",
       "    </tr>\n",
       "    <tr>\n",
       "      <th>3</th>\n",
       "      <td>182.0950</td>\n",
       "      <td>732.3800</td>\n",
       "      <td>0</td>\n",
       "      <td>0</td>\n",
       "      <td>0</td>\n",
       "      <td>0</td>\n",
       "      <td>0</td>\n",
       "      <td>1</td>\n",
       "      <td>0</td>\n",
       "      <td>0</td>\n",
       "      <td>0</td>\n",
       "      <td>0</td>\n",
       "      <td>0</td>\n",
       "      <td>0</td>\n",
       "      <td>0</td>\n",
       "      <td>0</td>\n",
       "      <td>0</td>\n",
       "      <td>0</td>\n",
       "      <td>0</td>\n",
       "      <td>0</td>\n",
       "    </tr>\n",
       "    <tr>\n",
       "      <th>4</th>\n",
       "      <td>53.8614</td>\n",
       "      <td>994.7052</td>\n",
       "      <td>0</td>\n",
       "      <td>0</td>\n",
       "      <td>0</td>\n",
       "      <td>0</td>\n",
       "      <td>0</td>\n",
       "      <td>0</td>\n",
       "      <td>0</td>\n",
       "      <td>0</td>\n",
       "      <td>1</td>\n",
       "      <td>0</td>\n",
       "      <td>0</td>\n",
       "      <td>0</td>\n",
       "      <td>0</td>\n",
       "      <td>0</td>\n",
       "      <td>0</td>\n",
       "      <td>1</td>\n",
       "      <td>0</td>\n",
       "      <td>0</td>\n",
       "    </tr>\n",
       "  </tbody>\n",
       "</table>\n",
       "</div>"
      ],
      "text/plain": [
       "   Item_MRP  Item_Outlet_Sales  Breads  Breakfast  Canned  Dairy  \\\n",
       "0  249.8092          3735.1380       0          0       0      1   \n",
       "1   48.2692           443.4228       0          0       0      0   \n",
       "2  141.6180          2097.2700       0          0       0      0   \n",
       "3  182.0950           732.3800       0          0       0      0   \n",
       "4   53.8614           994.7052       0          0       0      0   \n",
       "\n",
       "   Frozen Foods  Fruits and Vegetables  Hard Drinks  Health and Hygiene  \\\n",
       "0             0                      0            0                   0   \n",
       "1             0                      0            0                   0   \n",
       "2             0                      0            0                   0   \n",
       "3             0                      1            0                   0   \n",
       "4             0                      0            0                   0   \n",
       "\n",
       "   Household  Meat  Others  Seafood  Snack Foods  Soft Drinks  Starchy Foods  \\\n",
       "0          0     0       0        0            0            0              0   \n",
       "1          0     0       0        0            0            1              0   \n",
       "2          0     1       0        0            0            0              0   \n",
       "3          0     0       0        0            0            0              0   \n",
       "4          1     0       0        0            0            0              0   \n",
       "\n",
       "   Supermarket Type1  Supermarket Type2  Supermarket Type3  \n",
       "0                  1                  0                  0  \n",
       "1                  0                  1                  0  \n",
       "2                  1                  0                  0  \n",
       "3                  0                  0                  0  \n",
       "4                  1                  0                  0  "
      ]
     },
     "execution_count": 36,
     "metadata": {},
     "output_type": "execute_result"
    }
   ],
   "source": [
    "train.head()"
   ]
  },
  {
   "cell_type": "code",
   "execution_count": 37,
   "id": "b474f562",
   "metadata": {},
   "outputs": [
    {
     "data": {
      "text/html": [
       "<div>\n",
       "<style scoped>\n",
       "    .dataframe tbody tr th:only-of-type {\n",
       "        vertical-align: middle;\n",
       "    }\n",
       "\n",
       "    .dataframe tbody tr th {\n",
       "        vertical-align: top;\n",
       "    }\n",
       "\n",
       "    .dataframe thead th {\n",
       "        text-align: right;\n",
       "    }\n",
       "</style>\n",
       "<table border=\"1\" class=\"dataframe\">\n",
       "  <thead>\n",
       "    <tr style=\"text-align: right;\">\n",
       "      <th></th>\n",
       "      <th>Item_MRP</th>\n",
       "      <th>Breads</th>\n",
       "      <th>Breakfast</th>\n",
       "      <th>Canned</th>\n",
       "      <th>Dairy</th>\n",
       "      <th>Frozen Foods</th>\n",
       "      <th>Fruits and Vegetables</th>\n",
       "      <th>Hard Drinks</th>\n",
       "      <th>Health and Hygiene</th>\n",
       "      <th>Household</th>\n",
       "      <th>Meat</th>\n",
       "      <th>Others</th>\n",
       "      <th>Seafood</th>\n",
       "      <th>Snack Foods</th>\n",
       "      <th>Soft Drinks</th>\n",
       "      <th>Starchy Foods</th>\n",
       "      <th>Supermarket Type1</th>\n",
       "      <th>Supermarket Type2</th>\n",
       "      <th>Supermarket Type3</th>\n",
       "    </tr>\n",
       "  </thead>\n",
       "  <tbody>\n",
       "    <tr>\n",
       "      <th>0</th>\n",
       "      <td>107.8622</td>\n",
       "      <td>0</td>\n",
       "      <td>0</td>\n",
       "      <td>0</td>\n",
       "      <td>0</td>\n",
       "      <td>0</td>\n",
       "      <td>0</td>\n",
       "      <td>0</td>\n",
       "      <td>0</td>\n",
       "      <td>0</td>\n",
       "      <td>0</td>\n",
       "      <td>0</td>\n",
       "      <td>0</td>\n",
       "      <td>1</td>\n",
       "      <td>0</td>\n",
       "      <td>0</td>\n",
       "      <td>1</td>\n",
       "      <td>0</td>\n",
       "      <td>0</td>\n",
       "    </tr>\n",
       "    <tr>\n",
       "      <th>1</th>\n",
       "      <td>87.3198</td>\n",
       "      <td>0</td>\n",
       "      <td>0</td>\n",
       "      <td>0</td>\n",
       "      <td>1</td>\n",
       "      <td>0</td>\n",
       "      <td>0</td>\n",
       "      <td>0</td>\n",
       "      <td>0</td>\n",
       "      <td>0</td>\n",
       "      <td>0</td>\n",
       "      <td>0</td>\n",
       "      <td>0</td>\n",
       "      <td>0</td>\n",
       "      <td>0</td>\n",
       "      <td>0</td>\n",
       "      <td>1</td>\n",
       "      <td>0</td>\n",
       "      <td>0</td>\n",
       "    </tr>\n",
       "    <tr>\n",
       "      <th>2</th>\n",
       "      <td>241.7538</td>\n",
       "      <td>0</td>\n",
       "      <td>0</td>\n",
       "      <td>0</td>\n",
       "      <td>0</td>\n",
       "      <td>0</td>\n",
       "      <td>0</td>\n",
       "      <td>0</td>\n",
       "      <td>0</td>\n",
       "      <td>0</td>\n",
       "      <td>0</td>\n",
       "      <td>1</td>\n",
       "      <td>0</td>\n",
       "      <td>0</td>\n",
       "      <td>0</td>\n",
       "      <td>0</td>\n",
       "      <td>0</td>\n",
       "      <td>0</td>\n",
       "      <td>0</td>\n",
       "    </tr>\n",
       "    <tr>\n",
       "      <th>3</th>\n",
       "      <td>155.0340</td>\n",
       "      <td>0</td>\n",
       "      <td>0</td>\n",
       "      <td>0</td>\n",
       "      <td>0</td>\n",
       "      <td>0</td>\n",
       "      <td>0</td>\n",
       "      <td>0</td>\n",
       "      <td>0</td>\n",
       "      <td>0</td>\n",
       "      <td>0</td>\n",
       "      <td>0</td>\n",
       "      <td>0</td>\n",
       "      <td>1</td>\n",
       "      <td>0</td>\n",
       "      <td>0</td>\n",
       "      <td>1</td>\n",
       "      <td>0</td>\n",
       "      <td>0</td>\n",
       "    </tr>\n",
       "    <tr>\n",
       "      <th>4</th>\n",
       "      <td>234.2300</td>\n",
       "      <td>0</td>\n",
       "      <td>0</td>\n",
       "      <td>0</td>\n",
       "      <td>1</td>\n",
       "      <td>0</td>\n",
       "      <td>0</td>\n",
       "      <td>0</td>\n",
       "      <td>0</td>\n",
       "      <td>0</td>\n",
       "      <td>0</td>\n",
       "      <td>0</td>\n",
       "      <td>0</td>\n",
       "      <td>0</td>\n",
       "      <td>0</td>\n",
       "      <td>0</td>\n",
       "      <td>0</td>\n",
       "      <td>0</td>\n",
       "      <td>1</td>\n",
       "    </tr>\n",
       "  </tbody>\n",
       "</table>\n",
       "</div>"
      ],
      "text/plain": [
       "   Item_MRP  Breads  Breakfast  Canned  Dairy  Frozen Foods  \\\n",
       "0  107.8622       0          0       0      0             0   \n",
       "1   87.3198       0          0       0      1             0   \n",
       "2  241.7538       0          0       0      0             0   \n",
       "3  155.0340       0          0       0      0             0   \n",
       "4  234.2300       0          0       0      1             0   \n",
       "\n",
       "   Fruits and Vegetables  Hard Drinks  Health and Hygiene  Household  Meat  \\\n",
       "0                      0            0                   0          0     0   \n",
       "1                      0            0                   0          0     0   \n",
       "2                      0            0                   0          0     0   \n",
       "3                      0            0                   0          0     0   \n",
       "4                      0            0                   0          0     0   \n",
       "\n",
       "   Others  Seafood  Snack Foods  Soft Drinks  Starchy Foods  \\\n",
       "0       0        0            1            0              0   \n",
       "1       0        0            0            0              0   \n",
       "2       1        0            0            0              0   \n",
       "3       0        0            1            0              0   \n",
       "4       0        0            0            0              0   \n",
       "\n",
       "   Supermarket Type1  Supermarket Type2  Supermarket Type3  \n",
       "0                  1                  0                  0  \n",
       "1                  1                  0                  0  \n",
       "2                  0                  0                  0  \n",
       "3                  1                  0                  0  \n",
       "4                  0                  0                  1  "
      ]
     },
     "execution_count": 37,
     "metadata": {},
     "output_type": "execute_result"
    }
   ],
   "source": [
    "test.head()"
   ]
  },
  {
   "cell_type": "code",
   "execution_count": 38,
   "id": "047976dd",
   "metadata": {},
   "outputs": [
    {
     "data": {
      "text/html": [
       "<div>\n",
       "<style scoped>\n",
       "    .dataframe tbody tr th:only-of-type {\n",
       "        vertical-align: middle;\n",
       "    }\n",
       "\n",
       "    .dataframe tbody tr th {\n",
       "        vertical-align: top;\n",
       "    }\n",
       "\n",
       "    .dataframe thead th {\n",
       "        text-align: right;\n",
       "    }\n",
       "</style>\n",
       "<table border=\"1\" class=\"dataframe\">\n",
       "  <thead>\n",
       "    <tr style=\"text-align: right;\">\n",
       "      <th></th>\n",
       "      <th>Item_MRP</th>\n",
       "      <th>Item_Outlet_Sales</th>\n",
       "      <th>Breads</th>\n",
       "      <th>Breakfast</th>\n",
       "      <th>Canned</th>\n",
       "      <th>Dairy</th>\n",
       "      <th>Frozen Foods</th>\n",
       "      <th>Fruits and Vegetables</th>\n",
       "      <th>Hard Drinks</th>\n",
       "      <th>Health and Hygiene</th>\n",
       "      <th>Household</th>\n",
       "      <th>Meat</th>\n",
       "      <th>Others</th>\n",
       "      <th>Seafood</th>\n",
       "      <th>Snack Foods</th>\n",
       "      <th>Soft Drinks</th>\n",
       "      <th>Starchy Foods</th>\n",
       "      <th>Supermarket Type1</th>\n",
       "      <th>Supermarket Type2</th>\n",
       "      <th>Supermarket Type3</th>\n",
       "    </tr>\n",
       "  </thead>\n",
       "  <tbody>\n",
       "    <tr>\n",
       "      <th>Item_MRP</th>\n",
       "      <td>1.000000</td>\n",
       "      <td>0.567574</td>\n",
       "      <td>-0.000112</td>\n",
       "      <td>0.001460</td>\n",
       "      <td>-0.005666</td>\n",
       "      <td>0.035551</td>\n",
       "      <td>-0.013358</td>\n",
       "      <td>0.023688</td>\n",
       "      <td>-0.010089</td>\n",
       "      <td>-0.041646</td>\n",
       "      <td>0.046815</td>\n",
       "      <td>-0.004086</td>\n",
       "      <td>-0.018595</td>\n",
       "      <td>0.001186</td>\n",
       "      <td>0.033817</td>\n",
       "      <td>-0.035808</td>\n",
       "      <td>0.014613</td>\n",
       "      <td>0.004885</td>\n",
       "      <td>0.003850</td>\n",
       "      <td>-0.006714</td>\n",
       "    </tr>\n",
       "    <tr>\n",
       "      <th>Item_Outlet_Sales</th>\n",
       "      <td>0.567574</td>\n",
       "      <td>1.000000</td>\n",
       "      <td>0.002332</td>\n",
       "      <td>-0.004656</td>\n",
       "      <td>0.007387</td>\n",
       "      <td>0.008858</td>\n",
       "      <td>-0.009482</td>\n",
       "      <td>0.025950</td>\n",
       "      <td>-0.003956</td>\n",
       "      <td>-0.025587</td>\n",
       "      <td>0.015701</td>\n",
       "      <td>-0.002995</td>\n",
       "      <td>-0.021267</td>\n",
       "      <td>0.007380</td>\n",
       "      <td>0.022782</td>\n",
       "      <td>-0.024040</td>\n",
       "      <td>0.015039</td>\n",
       "      <td>0.108765</td>\n",
       "      <td>-0.038059</td>\n",
       "      <td>0.311192</td>\n",
       "    </tr>\n",
       "    <tr>\n",
       "      <th>Breads</th>\n",
       "      <td>-0.000112</td>\n",
       "      <td>0.002332</td>\n",
       "      <td>1.000000</td>\n",
       "      <td>-0.019918</td>\n",
       "      <td>-0.050010</td>\n",
       "      <td>-0.051373</td>\n",
       "      <td>-0.058204</td>\n",
       "      <td>-0.071605</td>\n",
       "      <td>-0.027955</td>\n",
       "      <td>-0.044402</td>\n",
       "      <td>-0.060225</td>\n",
       "      <td>-0.039906</td>\n",
       "      <td>-0.024776</td>\n",
       "      <td>-0.015152</td>\n",
       "      <td>-0.070514</td>\n",
       "      <td>-0.040885</td>\n",
       "      <td>-0.023156</td>\n",
       "      <td>-0.006189</td>\n",
       "      <td>-0.000734</td>\n",
       "      <td>0.007693</td>\n",
       "    </tr>\n",
       "    <tr>\n",
       "      <th>Breakfast</th>\n",
       "      <td>0.001460</td>\n",
       "      <td>-0.004656</td>\n",
       "      <td>-0.019918</td>\n",
       "      <td>1.000000</td>\n",
       "      <td>-0.032828</td>\n",
       "      <td>-0.033723</td>\n",
       "      <td>-0.038207</td>\n",
       "      <td>-0.047004</td>\n",
       "      <td>-0.018351</td>\n",
       "      <td>-0.029147</td>\n",
       "      <td>-0.039533</td>\n",
       "      <td>-0.026195</td>\n",
       "      <td>-0.016264</td>\n",
       "      <td>-0.009946</td>\n",
       "      <td>-0.046288</td>\n",
       "      <td>-0.026838</td>\n",
       "      <td>-0.015201</td>\n",
       "      <td>-0.008695</td>\n",
       "      <td>0.000077</td>\n",
       "      <td>-0.003550</td>\n",
       "    </tr>\n",
       "    <tr>\n",
       "      <th>Canned</th>\n",
       "      <td>-0.005666</td>\n",
       "      <td>0.007387</td>\n",
       "      <td>-0.050010</td>\n",
       "      <td>-0.032828</td>\n",
       "      <td>1.000000</td>\n",
       "      <td>-0.084670</td>\n",
       "      <td>-0.095929</td>\n",
       "      <td>-0.118015</td>\n",
       "      <td>-0.046074</td>\n",
       "      <td>-0.073181</td>\n",
       "      <td>-0.099258</td>\n",
       "      <td>-0.065770</td>\n",
       "      <td>-0.040834</td>\n",
       "      <td>-0.024972</td>\n",
       "      <td>-0.116217</td>\n",
       "      <td>-0.067383</td>\n",
       "      <td>-0.038165</td>\n",
       "      <td>0.001236</td>\n",
       "      <td>0.010418</td>\n",
       "      <td>0.001136</td>\n",
       "    </tr>\n",
       "    <tr>\n",
       "      <th>Dairy</th>\n",
       "      <td>0.035551</td>\n",
       "      <td>0.008858</td>\n",
       "      <td>-0.051373</td>\n",
       "      <td>-0.033723</td>\n",
       "      <td>-0.084670</td>\n",
       "      <td>1.000000</td>\n",
       "      <td>-0.098544</td>\n",
       "      <td>-0.121232</td>\n",
       "      <td>-0.047330</td>\n",
       "      <td>-0.075176</td>\n",
       "      <td>-0.101965</td>\n",
       "      <td>-0.067563</td>\n",
       "      <td>-0.041947</td>\n",
       "      <td>-0.025653</td>\n",
       "      <td>-0.119386</td>\n",
       "      <td>-0.069220</td>\n",
       "      <td>-0.039205</td>\n",
       "      <td>0.003396</td>\n",
       "      <td>-0.001746</td>\n",
       "      <td>-0.010817</td>\n",
       "    </tr>\n",
       "    <tr>\n",
       "      <th>Frozen Foods</th>\n",
       "      <td>-0.013358</td>\n",
       "      <td>-0.009482</td>\n",
       "      <td>-0.058204</td>\n",
       "      <td>-0.038207</td>\n",
       "      <td>-0.095929</td>\n",
       "      <td>-0.098544</td>\n",
       "      <td>1.000000</td>\n",
       "      <td>-0.137352</td>\n",
       "      <td>-0.053624</td>\n",
       "      <td>-0.085173</td>\n",
       "      <td>-0.115523</td>\n",
       "      <td>-0.076547</td>\n",
       "      <td>-0.047525</td>\n",
       "      <td>-0.029064</td>\n",
       "      <td>-0.135260</td>\n",
       "      <td>-0.078425</td>\n",
       "      <td>-0.044418</td>\n",
       "      <td>0.009750</td>\n",
       "      <td>-0.001507</td>\n",
       "      <td>-0.006128</td>\n",
       "    </tr>\n",
       "    <tr>\n",
       "      <th>Fruits and Vegetables</th>\n",
       "      <td>0.023688</td>\n",
       "      <td>0.025950</td>\n",
       "      <td>-0.071605</td>\n",
       "      <td>-0.047004</td>\n",
       "      <td>-0.118015</td>\n",
       "      <td>-0.121232</td>\n",
       "      <td>-0.137352</td>\n",
       "      <td>1.000000</td>\n",
       "      <td>-0.065970</td>\n",
       "      <td>-0.104782</td>\n",
       "      <td>-0.142120</td>\n",
       "      <td>-0.094171</td>\n",
       "      <td>-0.058467</td>\n",
       "      <td>-0.035755</td>\n",
       "      <td>-0.166402</td>\n",
       "      <td>-0.096481</td>\n",
       "      <td>-0.054645</td>\n",
       "      <td>-0.000811</td>\n",
       "      <td>0.000919</td>\n",
       "      <td>0.005173</td>\n",
       "    </tr>\n",
       "    <tr>\n",
       "      <th>Hard Drinks</th>\n",
       "      <td>-0.010089</td>\n",
       "      <td>-0.003956</td>\n",
       "      <td>-0.027955</td>\n",
       "      <td>-0.018351</td>\n",
       "      <td>-0.046074</td>\n",
       "      <td>-0.047330</td>\n",
       "      <td>-0.053624</td>\n",
       "      <td>-0.065970</td>\n",
       "      <td>1.000000</td>\n",
       "      <td>-0.040908</td>\n",
       "      <td>-0.055485</td>\n",
       "      <td>-0.036765</td>\n",
       "      <td>-0.022826</td>\n",
       "      <td>-0.013959</td>\n",
       "      <td>-0.064965</td>\n",
       "      <td>-0.037667</td>\n",
       "      <td>-0.021334</td>\n",
       "      <td>0.007837</td>\n",
       "      <td>-0.003132</td>\n",
       "      <td>-0.001143</td>\n",
       "    </tr>\n",
       "    <tr>\n",
       "      <th>Health and Hygiene</th>\n",
       "      <td>-0.041646</td>\n",
       "      <td>-0.025587</td>\n",
       "      <td>-0.044402</td>\n",
       "      <td>-0.029147</td>\n",
       "      <td>-0.073181</td>\n",
       "      <td>-0.075176</td>\n",
       "      <td>-0.085173</td>\n",
       "      <td>-0.104782</td>\n",
       "      <td>-0.040908</td>\n",
       "      <td>1.000000</td>\n",
       "      <td>-0.088129</td>\n",
       "      <td>-0.058396</td>\n",
       "      <td>-0.036255</td>\n",
       "      <td>-0.022172</td>\n",
       "      <td>-0.103186</td>\n",
       "      <td>-0.059828</td>\n",
       "      <td>-0.033885</td>\n",
       "      <td>-0.005422</td>\n",
       "      <td>0.002174</td>\n",
       "      <td>0.004634</td>\n",
       "    </tr>\n",
       "    <tr>\n",
       "      <th>Household</th>\n",
       "      <td>0.046815</td>\n",
       "      <td>0.015701</td>\n",
       "      <td>-0.060225</td>\n",
       "      <td>-0.039533</td>\n",
       "      <td>-0.099258</td>\n",
       "      <td>-0.101965</td>\n",
       "      <td>-0.115523</td>\n",
       "      <td>-0.142120</td>\n",
       "      <td>-0.055485</td>\n",
       "      <td>-0.088129</td>\n",
       "      <td>1.000000</td>\n",
       "      <td>-0.079204</td>\n",
       "      <td>-0.049174</td>\n",
       "      <td>-0.030073</td>\n",
       "      <td>-0.139955</td>\n",
       "      <td>-0.081147</td>\n",
       "      <td>-0.045960</td>\n",
       "      <td>0.001234</td>\n",
       "      <td>-0.004979</td>\n",
       "      <td>-0.001009</td>\n",
       "    </tr>\n",
       "    <tr>\n",
       "      <th>Meat</th>\n",
       "      <td>-0.004086</td>\n",
       "      <td>-0.002995</td>\n",
       "      <td>-0.039906</td>\n",
       "      <td>-0.026195</td>\n",
       "      <td>-0.065770</td>\n",
       "      <td>-0.067563</td>\n",
       "      <td>-0.076547</td>\n",
       "      <td>-0.094171</td>\n",
       "      <td>-0.036765</td>\n",
       "      <td>-0.058396</td>\n",
       "      <td>-0.079204</td>\n",
       "      <td>1.000000</td>\n",
       "      <td>-0.032584</td>\n",
       "      <td>-0.019927</td>\n",
       "      <td>-0.092737</td>\n",
       "      <td>-0.053769</td>\n",
       "      <td>-0.030454</td>\n",
       "      <td>-0.023912</td>\n",
       "      <td>-0.000476</td>\n",
       "      <td>0.016172</td>\n",
       "    </tr>\n",
       "    <tr>\n",
       "      <th>Others</th>\n",
       "      <td>-0.018595</td>\n",
       "      <td>-0.021267</td>\n",
       "      <td>-0.024776</td>\n",
       "      <td>-0.016264</td>\n",
       "      <td>-0.040834</td>\n",
       "      <td>-0.041947</td>\n",
       "      <td>-0.047525</td>\n",
       "      <td>-0.058467</td>\n",
       "      <td>-0.022826</td>\n",
       "      <td>-0.036255</td>\n",
       "      <td>-0.049174</td>\n",
       "      <td>-0.032584</td>\n",
       "      <td>1.000000</td>\n",
       "      <td>-0.012372</td>\n",
       "      <td>-0.057576</td>\n",
       "      <td>-0.033383</td>\n",
       "      <td>-0.018908</td>\n",
       "      <td>-0.006344</td>\n",
       "      <td>0.004320</td>\n",
       "      <td>-0.009533</td>\n",
       "    </tr>\n",
       "    <tr>\n",
       "      <th>Seafood</th>\n",
       "      <td>0.001186</td>\n",
       "      <td>0.007380</td>\n",
       "      <td>-0.015152</td>\n",
       "      <td>-0.009946</td>\n",
       "      <td>-0.024972</td>\n",
       "      <td>-0.025653</td>\n",
       "      <td>-0.029064</td>\n",
       "      <td>-0.035755</td>\n",
       "      <td>-0.013959</td>\n",
       "      <td>-0.022172</td>\n",
       "      <td>-0.030073</td>\n",
       "      <td>-0.019927</td>\n",
       "      <td>-0.012372</td>\n",
       "      <td>1.000000</td>\n",
       "      <td>-0.035211</td>\n",
       "      <td>-0.020415</td>\n",
       "      <td>-0.011563</td>\n",
       "      <td>-0.005367</td>\n",
       "      <td>0.000138</td>\n",
       "      <td>-0.000091</td>\n",
       "    </tr>\n",
       "    <tr>\n",
       "      <th>Snack Foods</th>\n",
       "      <td>0.033817</td>\n",
       "      <td>0.022782</td>\n",
       "      <td>-0.070514</td>\n",
       "      <td>-0.046288</td>\n",
       "      <td>-0.116217</td>\n",
       "      <td>-0.119386</td>\n",
       "      <td>-0.135260</td>\n",
       "      <td>-0.166402</td>\n",
       "      <td>-0.064965</td>\n",
       "      <td>-0.103186</td>\n",
       "      <td>-0.139955</td>\n",
       "      <td>-0.092737</td>\n",
       "      <td>-0.057576</td>\n",
       "      <td>-0.035211</td>\n",
       "      <td>1.000000</td>\n",
       "      <td>-0.095011</td>\n",
       "      <td>-0.053813</td>\n",
       "      <td>-0.000154</td>\n",
       "      <td>0.001453</td>\n",
       "      <td>0.005782</td>\n",
       "    </tr>\n",
       "    <tr>\n",
       "      <th>Soft Drinks</th>\n",
       "      <td>-0.035808</td>\n",
       "      <td>-0.024040</td>\n",
       "      <td>-0.040885</td>\n",
       "      <td>-0.026838</td>\n",
       "      <td>-0.067383</td>\n",
       "      <td>-0.069220</td>\n",
       "      <td>-0.078425</td>\n",
       "      <td>-0.096481</td>\n",
       "      <td>-0.037667</td>\n",
       "      <td>-0.059828</td>\n",
       "      <td>-0.081147</td>\n",
       "      <td>-0.053769</td>\n",
       "      <td>-0.033383</td>\n",
       "      <td>-0.020415</td>\n",
       "      <td>-0.095011</td>\n",
       "      <td>1.000000</td>\n",
       "      <td>-0.031201</td>\n",
       "      <td>0.009777</td>\n",
       "      <td>-0.004153</td>\n",
       "      <td>-0.006443</td>\n",
       "    </tr>\n",
       "    <tr>\n",
       "      <th>Starchy Foods</th>\n",
       "      <td>0.014613</td>\n",
       "      <td>0.015039</td>\n",
       "      <td>-0.023156</td>\n",
       "      <td>-0.015201</td>\n",
       "      <td>-0.038165</td>\n",
       "      <td>-0.039205</td>\n",
       "      <td>-0.044418</td>\n",
       "      <td>-0.054645</td>\n",
       "      <td>-0.021334</td>\n",
       "      <td>-0.033885</td>\n",
       "      <td>-0.045960</td>\n",
       "      <td>-0.030454</td>\n",
       "      <td>-0.018908</td>\n",
       "      <td>-0.011563</td>\n",
       "      <td>-0.053813</td>\n",
       "      <td>-0.031201</td>\n",
       "      <td>1.000000</td>\n",
       "      <td>0.013516</td>\n",
       "      <td>0.002553</td>\n",
       "      <td>-0.006427</td>\n",
       "    </tr>\n",
       "    <tr>\n",
       "      <th>Supermarket Type1</th>\n",
       "      <td>0.004885</td>\n",
       "      <td>0.108765</td>\n",
       "      <td>-0.006189</td>\n",
       "      <td>-0.008695</td>\n",
       "      <td>0.001236</td>\n",
       "      <td>0.003396</td>\n",
       "      <td>0.009750</td>\n",
       "      <td>-0.000811</td>\n",
       "      <td>0.007837</td>\n",
       "      <td>-0.005422</td>\n",
       "      <td>0.001234</td>\n",
       "      <td>-0.023912</td>\n",
       "      <td>-0.006344</td>\n",
       "      <td>-0.005367</td>\n",
       "      <td>-0.000154</td>\n",
       "      <td>0.009777</td>\n",
       "      <td>0.013516</td>\n",
       "      <td>1.000000</td>\n",
       "      <td>-0.480943</td>\n",
       "      <td>-0.482977</td>\n",
       "    </tr>\n",
       "    <tr>\n",
       "      <th>Supermarket Type2</th>\n",
       "      <td>0.003850</td>\n",
       "      <td>-0.038059</td>\n",
       "      <td>-0.000734</td>\n",
       "      <td>0.000077</td>\n",
       "      <td>0.010418</td>\n",
       "      <td>-0.001746</td>\n",
       "      <td>-0.001507</td>\n",
       "      <td>0.000919</td>\n",
       "      <td>-0.003132</td>\n",
       "      <td>0.002174</td>\n",
       "      <td>-0.004979</td>\n",
       "      <td>-0.000476</td>\n",
       "      <td>0.004320</td>\n",
       "      <td>0.000138</td>\n",
       "      <td>0.001453</td>\n",
       "      <td>-0.004153</td>\n",
       "      <td>0.002553</td>\n",
       "      <td>-0.480943</td>\n",
       "      <td>1.000000</td>\n",
       "      <td>-0.122702</td>\n",
       "    </tr>\n",
       "    <tr>\n",
       "      <th>Supermarket Type3</th>\n",
       "      <td>-0.006714</td>\n",
       "      <td>0.311192</td>\n",
       "      <td>0.007693</td>\n",
       "      <td>-0.003550</td>\n",
       "      <td>0.001136</td>\n",
       "      <td>-0.010817</td>\n",
       "      <td>-0.006128</td>\n",
       "      <td>0.005173</td>\n",
       "      <td>-0.001143</td>\n",
       "      <td>0.004634</td>\n",
       "      <td>-0.001009</td>\n",
       "      <td>0.016172</td>\n",
       "      <td>-0.009533</td>\n",
       "      <td>-0.000091</td>\n",
       "      <td>0.005782</td>\n",
       "      <td>-0.006443</td>\n",
       "      <td>-0.006427</td>\n",
       "      <td>-0.482977</td>\n",
       "      <td>-0.122702</td>\n",
       "      <td>1.000000</td>\n",
       "    </tr>\n",
       "  </tbody>\n",
       "</table>\n",
       "</div>"
      ],
      "text/plain": [
       "                       Item_MRP  Item_Outlet_Sales    Breads  Breakfast  \\\n",
       "Item_MRP               1.000000           0.567574 -0.000112   0.001460   \n",
       "Item_Outlet_Sales      0.567574           1.000000  0.002332  -0.004656   \n",
       "Breads                -0.000112           0.002332  1.000000  -0.019918   \n",
       "Breakfast              0.001460          -0.004656 -0.019918   1.000000   \n",
       "Canned                -0.005666           0.007387 -0.050010  -0.032828   \n",
       "Dairy                  0.035551           0.008858 -0.051373  -0.033723   \n",
       "Frozen Foods          -0.013358          -0.009482 -0.058204  -0.038207   \n",
       "Fruits and Vegetables  0.023688           0.025950 -0.071605  -0.047004   \n",
       "Hard Drinks           -0.010089          -0.003956 -0.027955  -0.018351   \n",
       "Health and Hygiene    -0.041646          -0.025587 -0.044402  -0.029147   \n",
       "Household              0.046815           0.015701 -0.060225  -0.039533   \n",
       "Meat                  -0.004086          -0.002995 -0.039906  -0.026195   \n",
       "Others                -0.018595          -0.021267 -0.024776  -0.016264   \n",
       "Seafood                0.001186           0.007380 -0.015152  -0.009946   \n",
       "Snack Foods            0.033817           0.022782 -0.070514  -0.046288   \n",
       "Soft Drinks           -0.035808          -0.024040 -0.040885  -0.026838   \n",
       "Starchy Foods          0.014613           0.015039 -0.023156  -0.015201   \n",
       "Supermarket Type1      0.004885           0.108765 -0.006189  -0.008695   \n",
       "Supermarket Type2      0.003850          -0.038059 -0.000734   0.000077   \n",
       "Supermarket Type3     -0.006714           0.311192  0.007693  -0.003550   \n",
       "\n",
       "                         Canned     Dairy  Frozen Foods  \\\n",
       "Item_MRP              -0.005666  0.035551     -0.013358   \n",
       "Item_Outlet_Sales      0.007387  0.008858     -0.009482   \n",
       "Breads                -0.050010 -0.051373     -0.058204   \n",
       "Breakfast             -0.032828 -0.033723     -0.038207   \n",
       "Canned                 1.000000 -0.084670     -0.095929   \n",
       "Dairy                 -0.084670  1.000000     -0.098544   \n",
       "Frozen Foods          -0.095929 -0.098544      1.000000   \n",
       "Fruits and Vegetables -0.118015 -0.121232     -0.137352   \n",
       "Hard Drinks           -0.046074 -0.047330     -0.053624   \n",
       "Health and Hygiene    -0.073181 -0.075176     -0.085173   \n",
       "Household             -0.099258 -0.101965     -0.115523   \n",
       "Meat                  -0.065770 -0.067563     -0.076547   \n",
       "Others                -0.040834 -0.041947     -0.047525   \n",
       "Seafood               -0.024972 -0.025653     -0.029064   \n",
       "Snack Foods           -0.116217 -0.119386     -0.135260   \n",
       "Soft Drinks           -0.067383 -0.069220     -0.078425   \n",
       "Starchy Foods         -0.038165 -0.039205     -0.044418   \n",
       "Supermarket Type1      0.001236  0.003396      0.009750   \n",
       "Supermarket Type2      0.010418 -0.001746     -0.001507   \n",
       "Supermarket Type3      0.001136 -0.010817     -0.006128   \n",
       "\n",
       "                       Fruits and Vegetables  Hard Drinks  Health and Hygiene  \\\n",
       "Item_MRP                            0.023688    -0.010089           -0.041646   \n",
       "Item_Outlet_Sales                   0.025950    -0.003956           -0.025587   \n",
       "Breads                             -0.071605    -0.027955           -0.044402   \n",
       "Breakfast                          -0.047004    -0.018351           -0.029147   \n",
       "Canned                             -0.118015    -0.046074           -0.073181   \n",
       "Dairy                              -0.121232    -0.047330           -0.075176   \n",
       "Frozen Foods                       -0.137352    -0.053624           -0.085173   \n",
       "Fruits and Vegetables               1.000000    -0.065970           -0.104782   \n",
       "Hard Drinks                        -0.065970     1.000000           -0.040908   \n",
       "Health and Hygiene                 -0.104782    -0.040908            1.000000   \n",
       "Household                          -0.142120    -0.055485           -0.088129   \n",
       "Meat                               -0.094171    -0.036765           -0.058396   \n",
       "Others                             -0.058467    -0.022826           -0.036255   \n",
       "Seafood                            -0.035755    -0.013959           -0.022172   \n",
       "Snack Foods                        -0.166402    -0.064965           -0.103186   \n",
       "Soft Drinks                        -0.096481    -0.037667           -0.059828   \n",
       "Starchy Foods                      -0.054645    -0.021334           -0.033885   \n",
       "Supermarket Type1                  -0.000811     0.007837           -0.005422   \n",
       "Supermarket Type2                   0.000919    -0.003132            0.002174   \n",
       "Supermarket Type3                   0.005173    -0.001143            0.004634   \n",
       "\n",
       "                       Household      Meat    Others   Seafood  Snack Foods  \\\n",
       "Item_MRP                0.046815 -0.004086 -0.018595  0.001186     0.033817   \n",
       "Item_Outlet_Sales       0.015701 -0.002995 -0.021267  0.007380     0.022782   \n",
       "Breads                 -0.060225 -0.039906 -0.024776 -0.015152    -0.070514   \n",
       "Breakfast              -0.039533 -0.026195 -0.016264 -0.009946    -0.046288   \n",
       "Canned                 -0.099258 -0.065770 -0.040834 -0.024972    -0.116217   \n",
       "Dairy                  -0.101965 -0.067563 -0.041947 -0.025653    -0.119386   \n",
       "Frozen Foods           -0.115523 -0.076547 -0.047525 -0.029064    -0.135260   \n",
       "Fruits and Vegetables  -0.142120 -0.094171 -0.058467 -0.035755    -0.166402   \n",
       "Hard Drinks            -0.055485 -0.036765 -0.022826 -0.013959    -0.064965   \n",
       "Health and Hygiene     -0.088129 -0.058396 -0.036255 -0.022172    -0.103186   \n",
       "Household               1.000000 -0.079204 -0.049174 -0.030073    -0.139955   \n",
       "Meat                   -0.079204  1.000000 -0.032584 -0.019927    -0.092737   \n",
       "Others                 -0.049174 -0.032584  1.000000 -0.012372    -0.057576   \n",
       "Seafood                -0.030073 -0.019927 -0.012372  1.000000    -0.035211   \n",
       "Snack Foods            -0.139955 -0.092737 -0.057576 -0.035211     1.000000   \n",
       "Soft Drinks            -0.081147 -0.053769 -0.033383 -0.020415    -0.095011   \n",
       "Starchy Foods          -0.045960 -0.030454 -0.018908 -0.011563    -0.053813   \n",
       "Supermarket Type1       0.001234 -0.023912 -0.006344 -0.005367    -0.000154   \n",
       "Supermarket Type2      -0.004979 -0.000476  0.004320  0.000138     0.001453   \n",
       "Supermarket Type3      -0.001009  0.016172 -0.009533 -0.000091     0.005782   \n",
       "\n",
       "                       Soft Drinks  Starchy Foods  Supermarket Type1  \\\n",
       "Item_MRP                 -0.035808       0.014613           0.004885   \n",
       "Item_Outlet_Sales        -0.024040       0.015039           0.108765   \n",
       "Breads                   -0.040885      -0.023156          -0.006189   \n",
       "Breakfast                -0.026838      -0.015201          -0.008695   \n",
       "Canned                   -0.067383      -0.038165           0.001236   \n",
       "Dairy                    -0.069220      -0.039205           0.003396   \n",
       "Frozen Foods             -0.078425      -0.044418           0.009750   \n",
       "Fruits and Vegetables    -0.096481      -0.054645          -0.000811   \n",
       "Hard Drinks              -0.037667      -0.021334           0.007837   \n",
       "Health and Hygiene       -0.059828      -0.033885          -0.005422   \n",
       "Household                -0.081147      -0.045960           0.001234   \n",
       "Meat                     -0.053769      -0.030454          -0.023912   \n",
       "Others                   -0.033383      -0.018908          -0.006344   \n",
       "Seafood                  -0.020415      -0.011563          -0.005367   \n",
       "Snack Foods              -0.095011      -0.053813          -0.000154   \n",
       "Soft Drinks               1.000000      -0.031201           0.009777   \n",
       "Starchy Foods            -0.031201       1.000000           0.013516   \n",
       "Supermarket Type1         0.009777       0.013516           1.000000   \n",
       "Supermarket Type2        -0.004153       0.002553          -0.480943   \n",
       "Supermarket Type3        -0.006443      -0.006427          -0.482977   \n",
       "\n",
       "                       Supermarket Type2  Supermarket Type3  \n",
       "Item_MRP                        0.003850          -0.006714  \n",
       "Item_Outlet_Sales              -0.038059           0.311192  \n",
       "Breads                         -0.000734           0.007693  \n",
       "Breakfast                       0.000077          -0.003550  \n",
       "Canned                          0.010418           0.001136  \n",
       "Dairy                          -0.001746          -0.010817  \n",
       "Frozen Foods                   -0.001507          -0.006128  \n",
       "Fruits and Vegetables           0.000919           0.005173  \n",
       "Hard Drinks                    -0.003132          -0.001143  \n",
       "Health and Hygiene              0.002174           0.004634  \n",
       "Household                      -0.004979          -0.001009  \n",
       "Meat                           -0.000476           0.016172  \n",
       "Others                          0.004320          -0.009533  \n",
       "Seafood                         0.000138          -0.000091  \n",
       "Snack Foods                     0.001453           0.005782  \n",
       "Soft Drinks                    -0.004153          -0.006443  \n",
       "Starchy Foods                   0.002553          -0.006427  \n",
       "Supermarket Type1              -0.480943          -0.482977  \n",
       "Supermarket Type2               1.000000          -0.122702  \n",
       "Supermarket Type3              -0.122702           1.000000  "
      ]
     },
     "execution_count": 38,
     "metadata": {},
     "output_type": "execute_result"
    }
   ],
   "source": [
    "train.corr().T"
   ]
  },
  {
   "cell_type": "code",
   "execution_count": 39,
   "id": "7c150aaa",
   "metadata": {},
   "outputs": [],
   "source": [
    "X = train.drop(columns=['Item_Outlet_Sales'])\n",
    "y = train['Item_Outlet_Sales']\n",
    "X_test = test"
   ]
  },
  {
   "cell_type": "code",
   "execution_count": 40,
   "id": "ea27ca86",
   "metadata": {},
   "outputs": [],
   "source": [
    "from sklearn.model_selection import train_test_split\n",
    "X_train,X_valid,y_train,y_valid = train_test_split(X,y,test_size=0.2,random_state=42)"
   ]
  },
  {
   "cell_type": "code",
   "execution_count": 41,
   "id": "c935e82b",
   "metadata": {},
   "outputs": [],
   "source": [
    "#Scaling the data\n",
    "\n",
    "from sklearn.preprocessing import StandardScaler\n",
    "scaler = StandardScaler()\n",
    "X_train_scaled = pd.DataFrame(scaler.fit_transform(X_train),columns = X.columns)\n",
    "X_valid_scaled = pd.DataFrame(scaler.transform(X_valid),columns= X.columns)"
   ]
  },
  {
   "cell_type": "code",
   "execution_count": 42,
   "id": "ff9bd7e2",
   "metadata": {},
   "outputs": [],
   "source": [
    "from sklearn.linear_model import LinearRegression\n",
    "model = LinearRegression()\n",
    "\n",
    "model.fit(X_train_scaled,y_train)\n",
    "y_pred = model.predict(X_valid_scaled)"
   ]
  },
  {
   "cell_type": "code",
   "execution_count": 43,
   "id": "1c0a9c47",
   "metadata": {},
   "outputs": [
    {
     "data": {
      "text/plain": [
       "0.5786518103344511"
      ]
     },
     "execution_count": 43,
     "metadata": {},
     "output_type": "execute_result"
    }
   ],
   "source": [
    "model.score(X_valid_scaled,y_valid)"
   ]
  },
  {
   "cell_type": "code",
   "execution_count": 44,
   "id": "223e7b5a",
   "metadata": {},
   "outputs": [],
   "source": [
    "# Prediction of test data"
   ]
  },
  {
   "cell_type": "code",
   "execution_count": 45,
   "id": "3f00fb8c",
   "metadata": {},
   "outputs": [],
   "source": [
    "y_pred1 = model.predict(X_test)"
   ]
  },
  {
   "cell_type": "code",
   "execution_count": 50,
   "id": "43e5ed53",
   "metadata": {},
   "outputs": [],
   "source": [
    "import pickle\n",
    "pickle.dump(model,open('Big Mart.pkl','wb'))"
   ]
  },
  {
   "cell_type": "code",
   "execution_count": 49,
   "id": "02e6668d",
   "metadata": {},
   "outputs": [
    {
     "data": {
      "text/html": [
       "<div>\n",
       "<style scoped>\n",
       "    .dataframe tbody tr th:only-of-type {\n",
       "        vertical-align: middle;\n",
       "    }\n",
       "\n",
       "    .dataframe tbody tr th {\n",
       "        vertical-align: top;\n",
       "    }\n",
       "\n",
       "    .dataframe thead th {\n",
       "        text-align: right;\n",
       "    }\n",
       "</style>\n",
       "<table border=\"1\" class=\"dataframe\">\n",
       "  <thead>\n",
       "    <tr style=\"text-align: right;\">\n",
       "      <th></th>\n",
       "      <th>Item_MRP</th>\n",
       "      <th>Breads</th>\n",
       "      <th>Breakfast</th>\n",
       "      <th>Canned</th>\n",
       "      <th>Dairy</th>\n",
       "      <th>Frozen Foods</th>\n",
       "      <th>Fruits and Vegetables</th>\n",
       "      <th>Hard Drinks</th>\n",
       "      <th>Health and Hygiene</th>\n",
       "      <th>Household</th>\n",
       "      <th>Meat</th>\n",
       "      <th>Others</th>\n",
       "      <th>Seafood</th>\n",
       "      <th>Snack Foods</th>\n",
       "      <th>Soft Drinks</th>\n",
       "      <th>Starchy Foods</th>\n",
       "      <th>Supermarket Type1</th>\n",
       "      <th>Supermarket Type2</th>\n",
       "      <th>Supermarket Type3</th>\n",
       "    </tr>\n",
       "  </thead>\n",
       "  <tbody>\n",
       "    <tr>\n",
       "      <th>0</th>\n",
       "      <td>0.470709</td>\n",
       "      <td>-0.169311</td>\n",
       "      <td>-0.113026</td>\n",
       "      <td>-0.285244</td>\n",
       "      <td>-0.292101</td>\n",
       "      <td>-0.333116</td>\n",
       "      <td>2.40923</td>\n",
       "      <td>-0.166075</td>\n",
       "      <td>-0.252619</td>\n",
       "      <td>-0.349985</td>\n",
       "      <td>-0.223727</td>\n",
       "      <td>-0.144262</td>\n",
       "      <td>-0.084203</td>\n",
       "      <td>-0.407515</td>\n",
       "      <td>-0.234019</td>\n",
       "      <td>-0.138322</td>\n",
       "      <td>0.730420</td>\n",
       "      <td>-0.352093</td>\n",
       "      <td>-0.354457</td>\n",
       "    </tr>\n",
       "    <tr>\n",
       "      <th>1</th>\n",
       "      <td>0.457877</td>\n",
       "      <td>-0.169311</td>\n",
       "      <td>-0.113026</td>\n",
       "      <td>-0.285244</td>\n",
       "      <td>-0.292101</td>\n",
       "      <td>-0.333116</td>\n",
       "      <td>-0.41507</td>\n",
       "      <td>-0.166075</td>\n",
       "      <td>-0.252619</td>\n",
       "      <td>2.857268</td>\n",
       "      <td>-0.223727</td>\n",
       "      <td>-0.144262</td>\n",
       "      <td>-0.084203</td>\n",
       "      <td>-0.407515</td>\n",
       "      <td>-0.234019</td>\n",
       "      <td>-0.138322</td>\n",
       "      <td>0.730420</td>\n",
       "      <td>-0.352093</td>\n",
       "      <td>-0.354457</td>\n",
       "    </tr>\n",
       "    <tr>\n",
       "      <th>2</th>\n",
       "      <td>-0.482625</td>\n",
       "      <td>-0.169311</td>\n",
       "      <td>-0.113026</td>\n",
       "      <td>-0.285244</td>\n",
       "      <td>-0.292101</td>\n",
       "      <td>-0.333116</td>\n",
       "      <td>-0.41507</td>\n",
       "      <td>-0.166075</td>\n",
       "      <td>-0.252619</td>\n",
       "      <td>-0.349985</td>\n",
       "      <td>4.469727</td>\n",
       "      <td>-0.144262</td>\n",
       "      <td>-0.084203</td>\n",
       "      <td>-0.407515</td>\n",
       "      <td>-0.234019</td>\n",
       "      <td>-0.138322</td>\n",
       "      <td>0.730420</td>\n",
       "      <td>-0.352093</td>\n",
       "      <td>-0.354457</td>\n",
       "    </tr>\n",
       "    <tr>\n",
       "      <th>3</th>\n",
       "      <td>-1.603553</td>\n",
       "      <td>-0.169311</td>\n",
       "      <td>-0.113026</td>\n",
       "      <td>-0.285244</td>\n",
       "      <td>-0.292101</td>\n",
       "      <td>-0.333116</td>\n",
       "      <td>2.40923</td>\n",
       "      <td>-0.166075</td>\n",
       "      <td>-0.252619</td>\n",
       "      <td>-0.349985</td>\n",
       "      <td>-0.223727</td>\n",
       "      <td>-0.144262</td>\n",
       "      <td>-0.084203</td>\n",
       "      <td>-0.407515</td>\n",
       "      <td>-0.234019</td>\n",
       "      <td>-0.138322</td>\n",
       "      <td>0.730420</td>\n",
       "      <td>-0.352093</td>\n",
       "      <td>-0.354457</td>\n",
       "    </tr>\n",
       "    <tr>\n",
       "      <th>4</th>\n",
       "      <td>0.218375</td>\n",
       "      <td>-0.169311</td>\n",
       "      <td>-0.113026</td>\n",
       "      <td>-0.285244</td>\n",
       "      <td>-0.292101</td>\n",
       "      <td>-0.333116</td>\n",
       "      <td>-0.41507</td>\n",
       "      <td>-0.166075</td>\n",
       "      <td>-0.252619</td>\n",
       "      <td>-0.349985</td>\n",
       "      <td>-0.223727</td>\n",
       "      <td>-0.144262</td>\n",
       "      <td>-0.084203</td>\n",
       "      <td>2.453900</td>\n",
       "      <td>-0.234019</td>\n",
       "      <td>-0.138322</td>\n",
       "      <td>0.730420</td>\n",
       "      <td>-0.352093</td>\n",
       "      <td>-0.354457</td>\n",
       "    </tr>\n",
       "    <tr>\n",
       "      <th>...</th>\n",
       "      <td>...</td>\n",
       "      <td>...</td>\n",
       "      <td>...</td>\n",
       "      <td>...</td>\n",
       "      <td>...</td>\n",
       "      <td>...</td>\n",
       "      <td>...</td>\n",
       "      <td>...</td>\n",
       "      <td>...</td>\n",
       "      <td>...</td>\n",
       "      <td>...</td>\n",
       "      <td>...</td>\n",
       "      <td>...</td>\n",
       "      <td>...</td>\n",
       "      <td>...</td>\n",
       "      <td>...</td>\n",
       "      <td>...</td>\n",
       "      <td>...</td>\n",
       "      <td>...</td>\n",
       "    </tr>\n",
       "    <tr>\n",
       "      <th>6813</th>\n",
       "      <td>-0.043511</td>\n",
       "      <td>-0.169311</td>\n",
       "      <td>-0.113026</td>\n",
       "      <td>-0.285244</td>\n",
       "      <td>-0.292101</td>\n",
       "      <td>-0.333116</td>\n",
       "      <td>2.40923</td>\n",
       "      <td>-0.166075</td>\n",
       "      <td>-0.252619</td>\n",
       "      <td>-0.349985</td>\n",
       "      <td>-0.223727</td>\n",
       "      <td>-0.144262</td>\n",
       "      <td>-0.084203</td>\n",
       "      <td>-0.407515</td>\n",
       "      <td>-0.234019</td>\n",
       "      <td>-0.138322</td>\n",
       "      <td>-1.369075</td>\n",
       "      <td>-0.352093</td>\n",
       "      <td>-0.354457</td>\n",
       "    </tr>\n",
       "    <tr>\n",
       "      <th>6814</th>\n",
       "      <td>-1.059078</td>\n",
       "      <td>-0.169311</td>\n",
       "      <td>-0.113026</td>\n",
       "      <td>-0.285244</td>\n",
       "      <td>-0.292101</td>\n",
       "      <td>3.001957</td>\n",
       "      <td>-0.41507</td>\n",
       "      <td>-0.166075</td>\n",
       "      <td>-0.252619</td>\n",
       "      <td>-0.349985</td>\n",
       "      <td>-0.223727</td>\n",
       "      <td>-0.144262</td>\n",
       "      <td>-0.084203</td>\n",
       "      <td>-0.407515</td>\n",
       "      <td>-0.234019</td>\n",
       "      <td>-0.138322</td>\n",
       "      <td>0.730420</td>\n",
       "      <td>-0.352093</td>\n",
       "      <td>-0.354457</td>\n",
       "    </tr>\n",
       "    <tr>\n",
       "      <th>6815</th>\n",
       "      <td>1.526207</td>\n",
       "      <td>-0.169311</td>\n",
       "      <td>-0.113026</td>\n",
       "      <td>-0.285244</td>\n",
       "      <td>-0.292101</td>\n",
       "      <td>-0.333116</td>\n",
       "      <td>-0.41507</td>\n",
       "      <td>-0.166075</td>\n",
       "      <td>3.958526</td>\n",
       "      <td>-0.349985</td>\n",
       "      <td>-0.223727</td>\n",
       "      <td>-0.144262</td>\n",
       "      <td>-0.084203</td>\n",
       "      <td>-0.407515</td>\n",
       "      <td>-0.234019</td>\n",
       "      <td>-0.138322</td>\n",
       "      <td>0.730420</td>\n",
       "      <td>-0.352093</td>\n",
       "      <td>-0.354457</td>\n",
       "    </tr>\n",
       "    <tr>\n",
       "      <th>6816</th>\n",
       "      <td>-0.383072</td>\n",
       "      <td>-0.169311</td>\n",
       "      <td>-0.113026</td>\n",
       "      <td>-0.285244</td>\n",
       "      <td>-0.292101</td>\n",
       "      <td>-0.333116</td>\n",
       "      <td>-0.41507</td>\n",
       "      <td>-0.166075</td>\n",
       "      <td>-0.252619</td>\n",
       "      <td>-0.349985</td>\n",
       "      <td>-0.223727</td>\n",
       "      <td>-0.144262</td>\n",
       "      <td>-0.084203</td>\n",
       "      <td>2.453900</td>\n",
       "      <td>-0.234019</td>\n",
       "      <td>-0.138322</td>\n",
       "      <td>0.730420</td>\n",
       "      <td>-0.352093</td>\n",
       "      <td>-0.354457</td>\n",
       "    </tr>\n",
       "    <tr>\n",
       "      <th>6817</th>\n",
       "      <td>-0.738116</td>\n",
       "      <td>-0.169311</td>\n",
       "      <td>-0.113026</td>\n",
       "      <td>-0.285244</td>\n",
       "      <td>-0.292101</td>\n",
       "      <td>-0.333116</td>\n",
       "      <td>-0.41507</td>\n",
       "      <td>-0.166075</td>\n",
       "      <td>-0.252619</td>\n",
       "      <td>2.857268</td>\n",
       "      <td>-0.223727</td>\n",
       "      <td>-0.144262</td>\n",
       "      <td>-0.084203</td>\n",
       "      <td>-0.407515</td>\n",
       "      <td>-0.234019</td>\n",
       "      <td>-0.138322</td>\n",
       "      <td>0.730420</td>\n",
       "      <td>-0.352093</td>\n",
       "      <td>-0.354457</td>\n",
       "    </tr>\n",
       "  </tbody>\n",
       "</table>\n",
       "<p>6818 rows × 19 columns</p>\n",
       "</div>"
      ],
      "text/plain": [
       "      Item_MRP    Breads  Breakfast    Canned     Dairy  Frozen Foods  \\\n",
       "0     0.470709 -0.169311  -0.113026 -0.285244 -0.292101     -0.333116   \n",
       "1     0.457877 -0.169311  -0.113026 -0.285244 -0.292101     -0.333116   \n",
       "2    -0.482625 -0.169311  -0.113026 -0.285244 -0.292101     -0.333116   \n",
       "3    -1.603553 -0.169311  -0.113026 -0.285244 -0.292101     -0.333116   \n",
       "4     0.218375 -0.169311  -0.113026 -0.285244 -0.292101     -0.333116   \n",
       "...        ...       ...        ...       ...       ...           ...   \n",
       "6813 -0.043511 -0.169311  -0.113026 -0.285244 -0.292101     -0.333116   \n",
       "6814 -1.059078 -0.169311  -0.113026 -0.285244 -0.292101      3.001957   \n",
       "6815  1.526207 -0.169311  -0.113026 -0.285244 -0.292101     -0.333116   \n",
       "6816 -0.383072 -0.169311  -0.113026 -0.285244 -0.292101     -0.333116   \n",
       "6817 -0.738116 -0.169311  -0.113026 -0.285244 -0.292101     -0.333116   \n",
       "\n",
       "      Fruits and Vegetables  Hard Drinks  Health and Hygiene  Household  \\\n",
       "0                   2.40923    -0.166075           -0.252619  -0.349985   \n",
       "1                  -0.41507    -0.166075           -0.252619   2.857268   \n",
       "2                  -0.41507    -0.166075           -0.252619  -0.349985   \n",
       "3                   2.40923    -0.166075           -0.252619  -0.349985   \n",
       "4                  -0.41507    -0.166075           -0.252619  -0.349985   \n",
       "...                     ...          ...                 ...        ...   \n",
       "6813                2.40923    -0.166075           -0.252619  -0.349985   \n",
       "6814               -0.41507    -0.166075           -0.252619  -0.349985   \n",
       "6815               -0.41507    -0.166075            3.958526  -0.349985   \n",
       "6816               -0.41507    -0.166075           -0.252619  -0.349985   \n",
       "6817               -0.41507    -0.166075           -0.252619   2.857268   \n",
       "\n",
       "          Meat    Others   Seafood  Snack Foods  Soft Drinks  Starchy Foods  \\\n",
       "0    -0.223727 -0.144262 -0.084203    -0.407515    -0.234019      -0.138322   \n",
       "1    -0.223727 -0.144262 -0.084203    -0.407515    -0.234019      -0.138322   \n",
       "2     4.469727 -0.144262 -0.084203    -0.407515    -0.234019      -0.138322   \n",
       "3    -0.223727 -0.144262 -0.084203    -0.407515    -0.234019      -0.138322   \n",
       "4    -0.223727 -0.144262 -0.084203     2.453900    -0.234019      -0.138322   \n",
       "...        ...       ...       ...          ...          ...            ...   \n",
       "6813 -0.223727 -0.144262 -0.084203    -0.407515    -0.234019      -0.138322   \n",
       "6814 -0.223727 -0.144262 -0.084203    -0.407515    -0.234019      -0.138322   \n",
       "6815 -0.223727 -0.144262 -0.084203    -0.407515    -0.234019      -0.138322   \n",
       "6816 -0.223727 -0.144262 -0.084203     2.453900    -0.234019      -0.138322   \n",
       "6817 -0.223727 -0.144262 -0.084203    -0.407515    -0.234019      -0.138322   \n",
       "\n",
       "      Supermarket Type1  Supermarket Type2  Supermarket Type3  \n",
       "0              0.730420          -0.352093          -0.354457  \n",
       "1              0.730420          -0.352093          -0.354457  \n",
       "2              0.730420          -0.352093          -0.354457  \n",
       "3              0.730420          -0.352093          -0.354457  \n",
       "4              0.730420          -0.352093          -0.354457  \n",
       "...                 ...                ...                ...  \n",
       "6813          -1.369075          -0.352093          -0.354457  \n",
       "6814           0.730420          -0.352093          -0.354457  \n",
       "6815           0.730420          -0.352093          -0.354457  \n",
       "6816           0.730420          -0.352093          -0.354457  \n",
       "6817           0.730420          -0.352093          -0.354457  \n",
       "\n",
       "[6818 rows x 19 columns]"
      ]
     },
     "execution_count": 49,
     "metadata": {},
     "output_type": "execute_result"
    }
   ],
   "source": [
    "X_train_scaled"
   ]
  },
  {
   "cell_type": "code",
   "execution_count": null,
   "id": "436dae8d",
   "metadata": {},
   "outputs": [],
   "source": []
  }
 ],
 "metadata": {
  "kernelspec": {
   "display_name": "Python 3",
   "language": "python",
   "name": "python3"
  },
  "language_info": {
   "codemirror_mode": {
    "name": "ipython",
    "version": 3
   },
   "file_extension": ".py",
   "mimetype": "text/x-python",
   "name": "python",
   "nbconvert_exporter": "python",
   "pygments_lexer": "ipython3",
   "version": "3.8.8"
  }
 },
 "nbformat": 4,
 "nbformat_minor": 5
}
