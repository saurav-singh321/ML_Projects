{
 "cells": [
  {
   "cell_type": "code",
   "execution_count": 1,
   "id": "52fbd98c",
   "metadata": {},
   "outputs": [],
   "source": [
    "import pandas as pd\n",
    "import numpy as np\n",
    "import seaborn as sns\n",
    "import matplotlib.pyplot as plt\n",
    "import warnings\n",
    "\n",
    "from sklearn.preprocessing import LabelEncoder\n",
    "from sklearn.preprocessing import StandardScaler\n",
    "warnings.filterwarnings('ignore')"
   ]
  },
  {
   "cell_type": "code",
   "execution_count": null,
   "id": "12ac8ccd",
   "metadata": {},
   "outputs": [],
   "source": [
    "df = pd.read_excel('Online Retail.xlsx')\n",
    "df.head()"
   ]
  },
  {
   "cell_type": "code",
   "execution_count": null,
   "id": "99588ec1",
   "metadata": {},
   "outputs": [],
   "source": [
    "df.shape"
   ]
  },
  {
   "cell_type": "code",
   "execution_count": null,
   "id": "c0a5103a",
   "metadata": {},
   "outputs": [],
   "source": [
    "df.info()"
   ]
  },
  {
   "cell_type": "code",
   "execution_count": null,
   "id": "fa5bac2b",
   "metadata": {},
   "outputs": [],
   "source": [
    "df.isnull().sum()"
   ]
  },
  {
   "cell_type": "code",
   "execution_count": null,
   "id": "5d434959",
   "metadata": {},
   "outputs": [],
   "source": [
    "# Changing date into pandas format\n",
    "df['InvoiceDate'] = pd.to_datetime(df['InvoiceDate'])\n",
    "df['InvoiceDate']"
   ]
  },
  {
   "cell_type": "code",
   "execution_count": null,
   "id": "9d26c9ae",
   "metadata": {},
   "outputs": [],
   "source": [
    "# Getting year month and day from the date\n",
    "df['Invoice_Year'] = df.InvoiceDate.dt.year\n",
    "df['Invoice_Month'] = df.InvoiceDate.dt.month\n",
    "df['Invoice_Day'] = df.InvoiceDate.dt.day\n",
    "df['Invoice_WeekDay'] = df.InvoiceDate.dt.weekday # return the day of week, start from Monday"
   ]
  },
  {
   "cell_type": "code",
   "execution_count": null,
   "id": "fdd97971",
   "metadata": {},
   "outputs": [],
   "source": [
    "# Creating total price by combining unit price and quantity\n",
    "df['Total_Price'] = df['Quantity']*df['UnitPrice']\n",
    "df.shape"
   ]
  },
  {
   "cell_type": "code",
   "execution_count": null,
   "id": "9568547f",
   "metadata": {},
   "outputs": [],
   "source": [
    "df.head()"
   ]
  },
  {
   "cell_type": "code",
   "execution_count": null,
   "id": "d4840254",
   "metadata": {},
   "outputs": [],
   "source": [
    "# getting data where quqntity and unity price is greater than 0\n",
    "df = df[(df.Quantity>0) & (df.UnitPrice>0)]\n",
    "# df[df['Total_Price']>0] # same thing\n",
    "df.shape"
   ]
  },
  {
   "cell_type": "code",
   "execution_count": null,
   "id": "5d9cc097",
   "metadata": {},
   "outputs": [],
   "source": [
    "X = df.drop(['InvoiceNo','StockCode','InvoiceDate','CustomerID'],axis=1) # these columns are of no use"
   ]
  },
  {
   "cell_type": "code",
   "execution_count": null,
   "id": "b98ae2c2",
   "metadata": {},
   "outputs": [],
   "source": [
    "X"
   ]
  },
  {
   "cell_type": "markdown",
   "id": "521762b3",
   "metadata": {},
   "source": [
    "# EDA "
   ]
  },
  {
   "cell_type": "code",
   "execution_count": null,
   "id": "94bc8d0e",
   "metadata": {},
   "outputs": [],
   "source": [
    "# Checking Correlation between features\n",
    "plt.figure(figsize=(9,5),dpi=150)\n",
    "sns.heatmap(X.corr(),annot=True,cmap='viridis',vmin=-1,vmax=1)"
   ]
  },
  {
   "cell_type": "markdown",
   "id": "d45ad6e3",
   "metadata": {},
   "source": [
    "Total price and quantity is correlated. Let's look in it"
   ]
  },
  {
   "cell_type": "code",
   "execution_count": null,
   "id": "15a90acb",
   "metadata": {},
   "outputs": [],
   "source": [
    "sns.scatterplot(data=X,x='Quantity',y='Total_Price')"
   ]
  },
  {
   "cell_type": "markdown",
   "id": "cf5b8971",
   "metadata": {},
   "source": [
    "# Numerical Features"
   ]
  },
  {
   "cell_type": "code",
   "execution_count": null,
   "id": "9c463b54",
   "metadata": {},
   "outputs": [],
   "source": [
    "numerical_features = X.select_dtypes(exclude='O').columns\n",
    "print(numerical_features)\n",
    "\n",
    "numerical_features_count = {features:len(df[features].unique()) for features in numerical_features}\n",
    "numerical_features_count"
   ]
  },
  {
   "cell_type": "markdown",
   "id": "9a9f7b89",
   "metadata": {},
   "source": [
    "## Discrete features"
   ]
  },
  {
   "cell_type": "code",
   "execution_count": null,
   "id": "9caf3f67",
   "metadata": {},
   "outputs": [],
   "source": [
    "discrete_features = [features for features in numerical_features if len(df[features].unique())<10]\n",
    "discrete_features"
   ]
  },
  {
   "cell_type": "code",
   "execution_count": null,
   "id": "bd32aec2",
   "metadata": {},
   "outputs": [],
   "source": [
    "sns.barplot(x = 'Invoice_Year',y = 'Total_Price',data=X)"
   ]
  },
  {
   "cell_type": "code",
   "execution_count": null,
   "id": "b3ece477",
   "metadata": {},
   "outputs": [],
   "source": [
    "plot = sns.barplot(x = 'Invoice_WeekDay',y = 'Total_Price',data=X)\n",
    "plot.set_xticklabels(['Monday','Tuesday','Wednesday','Thursday','Friday','Sunday'])\n",
    "plt.show()"
   ]
  },
  {
   "cell_type": "markdown",
   "id": "0e0be703",
   "metadata": {},
   "source": [
    "# Observation \n",
    "\n",
    "1. 2011 has more sales than 2010\n",
    "2. On Friday we have more sales\n",
    "\n",
    "# Continuous Variables"
   ]
  },
  {
   "cell_type": "code",
   "execution_count": null,
   "id": "1372bfd0",
   "metadata": {},
   "outputs": [],
   "source": [
    "continous_features = [features for features in numerical_features if features not in discrete_features]\n",
    "continous_features"
   ]
  },
  {
   "cell_type": "code",
   "execution_count": null,
   "id": "b2ff3c29",
   "metadata": {},
   "outputs": [],
   "source": [
    "plot = sns.barplot(x = 'Invoice_Month',y = 'Total_Price',data=X,ci=None)\n",
    "plot.set_xticklabels(['Jan','Feb','Mar','Apr','May','Jun','Jul','Aug','Sep','Oct','Nov','Dec'])\n",
    "plt.show()"
   ]
  },
  {
   "cell_type": "code",
   "execution_count": null,
   "id": "225883e2",
   "metadata": {},
   "outputs": [],
   "source": [
    "plt.figure(figsize=(9,5),dpi=100)\n",
    "sns.barplot(x='Invoice_Day',y = 'Total_Price',data = X,ci = None)"
   ]
  },
  {
   "cell_type": "markdown",
   "id": "b2e05c23",
   "metadata": {},
   "source": [
    "# Observation\n",
    "\n",
    "1. In the month of December we have more sales\n",
    "2. On 14 of month we have more sales"
   ]
  },
  {
   "cell_type": "markdown",
   "id": "17dd54a8",
   "metadata": {},
   "source": [
    "# Categorical Variables"
   ]
  },
  {
   "cell_type": "code",
   "execution_count": null,
   "id": "89957e5d",
   "metadata": {},
   "outputs": [],
   "source": [
    "categorical_features = X.select_dtypes(include='O').columns\n",
    "print(categorical_features)\n",
    "\n",
    "categorical_features_count = {features:len(X[features].unique()) for features in categorical_features}\n",
    "categorical_features_count"
   ]
  },
  {
   "cell_type": "code",
   "execution_count": null,
   "id": "ccedec40",
   "metadata": {},
   "outputs": [],
   "source": [
    "plt.figure(figsize=(7,3),dpi=150)\n",
    "sns.barplot(X.groupby('Description')['Total_Price'].mean().sort_values(ascending=False)[:10].index,\n",
    "            X.groupby('Description')['Total_Price'].mean().sort_values(ascending=False)[:10].values,palette='Set2')\n",
    "plt.xticks(rotation=90);"
   ]
  },
  {
   "cell_type": "code",
   "execution_count": null,
   "id": "9bed44a9",
   "metadata": {},
   "outputs": [],
   "source": [
    "plt.figure(figsize=(9,5),dpi=100)\n",
    "sns.barplot(x = 'Country',y = 'Total_Price',data = X,ci=None)\n",
    "plt.xticks(rotation=90)\n",
    "plt.show()"
   ]
  },
  {
   "cell_type": "markdown",
   "id": "a22caa7b",
   "metadata": {},
   "source": [
    "# Observation\n",
    "\n",
    "1. Neitherlands has highest sale\n",
    "2. Paper craft little birdie is the bestseller"
   ]
  },
  {
   "cell_type": "code",
   "execution_count": null,
   "id": "7d40199b",
   "metadata": {},
   "outputs": [],
   "source": [
    "categorical_features_count"
   ]
  },
  {
   "cell_type": "code",
   "execution_count": null,
   "id": "97919bd8",
   "metadata": {},
   "outputs": [],
   "source": [
    "label_encoder = LabelEncoder()\n",
    "X['Description'] = label_encoder.fit_transform(X['Description'].astype(str)) # because description has too many values\n",
    "X"
   ]
  },
  {
   "cell_type": "code",
   "execution_count": null,
   "id": "e5124ba5",
   "metadata": {},
   "outputs": [],
   "source": [
    "dummy = pd.get_dummies(df['Country'])\n",
    "X = pd.concat([X,dummy],axis=1)\n",
    "X.drop('Country',axis=1,inplace=True)\n",
    "X"
   ]
  },
  {
   "cell_type": "code",
   "execution_count": null,
   "id": "228eaa75",
   "metadata": {},
   "outputs": [],
   "source": [
    "X.isnull().sum()"
   ]
  },
  {
   "cell_type": "code",
   "execution_count": null,
   "id": "73047de2",
   "metadata": {},
   "outputs": [],
   "source": [
    "scaler = StandardScaler()\n",
    "X_scaled = scaler.fit_transform(X)\n",
    "X_scaled = pd.DataFrame(X_scaled,columns=X.columns)\n",
    "X_scaled"
   ]
  },
  {
   "cell_type": "code",
   "execution_count": null,
   "id": "77b41bbd",
   "metadata": {},
   "outputs": [],
   "source": [
    "from sklearn.cluster import KMeans\n",
    "wcss = []\n",
    "for i in range(1,20):\n",
    "    model = KMeans(n_clusters=i,init='k-means++',random_state=42)\n",
    "    model.fit(X_scaled)\n",
    "    wcss.append(model.inertia_)"
   ]
  },
  {
   "cell_type": "code",
   "execution_count": null,
   "id": "0c2bdae8",
   "metadata": {},
   "outputs": [],
   "source": [
    "plt.plot(range(1,20),wcss,marker='o',mfc='r')"
   ]
  },
  {
   "cell_type": "code",
   "execution_count": null,
   "id": "81d7c9f5",
   "metadata": {},
   "outputs": [],
   "source": [
    "model = KMeans(n_clusters=5,random_state=101)\n",
    "pred = model.fit_predict(X_scaled)"
   ]
  },
  {
   "cell_type": "code",
   "execution_count": null,
   "id": "a00ac7e4",
   "metadata": {},
   "outputs": [],
   "source": [
    "from sklearn.metrics import silhouette_score\n",
    "silhouette_score(X_scaled,pred)"
   ]
  },
  {
   "cell_type": "code",
   "execution_count": null,
   "id": "fe5da080",
   "metadata": {},
   "outputs": [],
   "source": []
  }
 ],
 "metadata": {
  "kernelspec": {
   "display_name": "Python 3",
   "language": "python",
   "name": "python3"
  },
  "language_info": {
   "codemirror_mode": {
    "name": "ipython",
    "version": 3
   },
   "file_extension": ".py",
   "mimetype": "text/x-python",
   "name": "python",
   "nbconvert_exporter": "python",
   "pygments_lexer": "ipython3",
   "version": "3.8.8"
  }
 },
 "nbformat": 4,
 "nbformat_minor": 5
}
