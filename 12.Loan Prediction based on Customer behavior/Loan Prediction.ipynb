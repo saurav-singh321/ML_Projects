{
 "cells": [
  {
   "cell_type": "code",
   "execution_count": null,
   "id": "6822573e",
   "metadata": {},
   "outputs": [],
   "source": [
    "# Dataset link - https://www.kaggle.com/datasets/subhamjain/loan-prediction-based-on-customer-behavior"
   ]
  },
  {
   "cell_type": "code",
   "execution_count": 1,
   "id": "a361f5de",
   "metadata": {},
   "outputs": [],
   "source": [
    "# util library\n",
    "import numpy as np\n",
    "import pandas as pd\n",
    "import matplotlib.pyplot as plt\n",
    "import seaborn as sns\n",
    "import warnings\n",
    "\n",
    "# preprocessors\n",
    "from sklearn.preprocessing import StandardScaler\n",
    "from sklearn.preprocessing import LabelEncoder\n",
    "\n",
    "#oversampling\n",
    "from imblearn.over_sampling import SMOTE\n",
    "\n",
    "#model trainig\n",
    "from sklearn.tree import ExtraTreeClassifier\n",
    "from sklearn.ensemble import RandomForestClassifier\n",
    "from sklearn.model_selection import train_test_split\n",
    "\n",
    "#model evaluation\n",
    "from sklearn.metrics import accuracy_score\n",
    "from sklearn.metrics import classification_report, balanced_accuracy_score\n",
    "\n",
    "warnings.filterwarnings('ignore')  "
   ]
  },
  {
   "cell_type": "code",
   "execution_count": 2,
   "id": "9edfb585",
   "metadata": {},
   "outputs": [
    {
     "data": {
      "text/html": [
       "<div>\n",
       "<style scoped>\n",
       "    .dataframe tbody tr th:only-of-type {\n",
       "        vertical-align: middle;\n",
       "    }\n",
       "\n",
       "    .dataframe tbody tr th {\n",
       "        vertical-align: top;\n",
       "    }\n",
       "\n",
       "    .dataframe thead th {\n",
       "        text-align: right;\n",
       "    }\n",
       "</style>\n",
       "<table border=\"1\" class=\"dataframe\">\n",
       "  <thead>\n",
       "    <tr style=\"text-align: right;\">\n",
       "      <th></th>\n",
       "      <th>Id</th>\n",
       "      <th>Income</th>\n",
       "      <th>Age</th>\n",
       "      <th>Experience</th>\n",
       "      <th>Married/Single</th>\n",
       "      <th>House_Ownership</th>\n",
       "      <th>Car_Ownership</th>\n",
       "      <th>Profession</th>\n",
       "      <th>CITY</th>\n",
       "      <th>STATE</th>\n",
       "      <th>CURRENT_JOB_YRS</th>\n",
       "      <th>CURRENT_HOUSE_YRS</th>\n",
       "      <th>Risk_Flag</th>\n",
       "    </tr>\n",
       "  </thead>\n",
       "  <tbody>\n",
       "    <tr>\n",
       "      <th>0</th>\n",
       "      <td>1</td>\n",
       "      <td>1303834</td>\n",
       "      <td>23</td>\n",
       "      <td>3</td>\n",
       "      <td>single</td>\n",
       "      <td>rented</td>\n",
       "      <td>no</td>\n",
       "      <td>Mechanical_engineer</td>\n",
       "      <td>Rewa</td>\n",
       "      <td>Madhya_Pradesh</td>\n",
       "      <td>3</td>\n",
       "      <td>13</td>\n",
       "      <td>0</td>\n",
       "    </tr>\n",
       "    <tr>\n",
       "      <th>1</th>\n",
       "      <td>2</td>\n",
       "      <td>7574516</td>\n",
       "      <td>40</td>\n",
       "      <td>10</td>\n",
       "      <td>single</td>\n",
       "      <td>rented</td>\n",
       "      <td>no</td>\n",
       "      <td>Software_Developer</td>\n",
       "      <td>Parbhani</td>\n",
       "      <td>Maharashtra</td>\n",
       "      <td>9</td>\n",
       "      <td>13</td>\n",
       "      <td>0</td>\n",
       "    </tr>\n",
       "    <tr>\n",
       "      <th>2</th>\n",
       "      <td>3</td>\n",
       "      <td>3991815</td>\n",
       "      <td>66</td>\n",
       "      <td>4</td>\n",
       "      <td>married</td>\n",
       "      <td>rented</td>\n",
       "      <td>no</td>\n",
       "      <td>Technical_writer</td>\n",
       "      <td>Alappuzha</td>\n",
       "      <td>Kerala</td>\n",
       "      <td>4</td>\n",
       "      <td>10</td>\n",
       "      <td>0</td>\n",
       "    </tr>\n",
       "    <tr>\n",
       "      <th>3</th>\n",
       "      <td>4</td>\n",
       "      <td>6256451</td>\n",
       "      <td>41</td>\n",
       "      <td>2</td>\n",
       "      <td>single</td>\n",
       "      <td>rented</td>\n",
       "      <td>yes</td>\n",
       "      <td>Software_Developer</td>\n",
       "      <td>Bhubaneswar</td>\n",
       "      <td>Odisha</td>\n",
       "      <td>2</td>\n",
       "      <td>12</td>\n",
       "      <td>1</td>\n",
       "    </tr>\n",
       "    <tr>\n",
       "      <th>4</th>\n",
       "      <td>5</td>\n",
       "      <td>5768871</td>\n",
       "      <td>47</td>\n",
       "      <td>11</td>\n",
       "      <td>single</td>\n",
       "      <td>rented</td>\n",
       "      <td>no</td>\n",
       "      <td>Civil_servant</td>\n",
       "      <td>Tiruchirappalli[10]</td>\n",
       "      <td>Tamil_Nadu</td>\n",
       "      <td>3</td>\n",
       "      <td>14</td>\n",
       "      <td>1</td>\n",
       "    </tr>\n",
       "    <tr>\n",
       "      <th>...</th>\n",
       "      <td>...</td>\n",
       "      <td>...</td>\n",
       "      <td>...</td>\n",
       "      <td>...</td>\n",
       "      <td>...</td>\n",
       "      <td>...</td>\n",
       "      <td>...</td>\n",
       "      <td>...</td>\n",
       "      <td>...</td>\n",
       "      <td>...</td>\n",
       "      <td>...</td>\n",
       "      <td>...</td>\n",
       "      <td>...</td>\n",
       "    </tr>\n",
       "    <tr>\n",
       "      <th>251995</th>\n",
       "      <td>251996</td>\n",
       "      <td>8154883</td>\n",
       "      <td>43</td>\n",
       "      <td>13</td>\n",
       "      <td>single</td>\n",
       "      <td>rented</td>\n",
       "      <td>no</td>\n",
       "      <td>Surgeon</td>\n",
       "      <td>Kolkata</td>\n",
       "      <td>West_Bengal</td>\n",
       "      <td>6</td>\n",
       "      <td>11</td>\n",
       "      <td>0</td>\n",
       "    </tr>\n",
       "    <tr>\n",
       "      <th>251996</th>\n",
       "      <td>251997</td>\n",
       "      <td>2843572</td>\n",
       "      <td>26</td>\n",
       "      <td>10</td>\n",
       "      <td>single</td>\n",
       "      <td>rented</td>\n",
       "      <td>no</td>\n",
       "      <td>Army_officer</td>\n",
       "      <td>Rewa</td>\n",
       "      <td>Madhya_Pradesh</td>\n",
       "      <td>6</td>\n",
       "      <td>11</td>\n",
       "      <td>0</td>\n",
       "    </tr>\n",
       "    <tr>\n",
       "      <th>251997</th>\n",
       "      <td>251998</td>\n",
       "      <td>4522448</td>\n",
       "      <td>46</td>\n",
       "      <td>7</td>\n",
       "      <td>single</td>\n",
       "      <td>rented</td>\n",
       "      <td>no</td>\n",
       "      <td>Design_Engineer</td>\n",
       "      <td>Kalyan-Dombivli</td>\n",
       "      <td>Maharashtra</td>\n",
       "      <td>7</td>\n",
       "      <td>12</td>\n",
       "      <td>0</td>\n",
       "    </tr>\n",
       "    <tr>\n",
       "      <th>251998</th>\n",
       "      <td>251999</td>\n",
       "      <td>6507128</td>\n",
       "      <td>45</td>\n",
       "      <td>0</td>\n",
       "      <td>single</td>\n",
       "      <td>rented</td>\n",
       "      <td>no</td>\n",
       "      <td>Graphic_Designer</td>\n",
       "      <td>Pondicherry</td>\n",
       "      <td>Puducherry</td>\n",
       "      <td>0</td>\n",
       "      <td>10</td>\n",
       "      <td>0</td>\n",
       "    </tr>\n",
       "    <tr>\n",
       "      <th>251999</th>\n",
       "      <td>252000</td>\n",
       "      <td>9070230</td>\n",
       "      <td>70</td>\n",
       "      <td>17</td>\n",
       "      <td>single</td>\n",
       "      <td>rented</td>\n",
       "      <td>no</td>\n",
       "      <td>Statistician</td>\n",
       "      <td>Avadi</td>\n",
       "      <td>Tamil_Nadu</td>\n",
       "      <td>7</td>\n",
       "      <td>11</td>\n",
       "      <td>0</td>\n",
       "    </tr>\n",
       "  </tbody>\n",
       "</table>\n",
       "<p>252000 rows × 13 columns</p>\n",
       "</div>"
      ],
      "text/plain": [
       "            Id   Income  Age  Experience Married/Single House_Ownership  \\\n",
       "0            1  1303834   23           3         single          rented   \n",
       "1            2  7574516   40          10         single          rented   \n",
       "2            3  3991815   66           4        married          rented   \n",
       "3            4  6256451   41           2         single          rented   \n",
       "4            5  5768871   47          11         single          rented   \n",
       "...        ...      ...  ...         ...            ...             ...   \n",
       "251995  251996  8154883   43          13         single          rented   \n",
       "251996  251997  2843572   26          10         single          rented   \n",
       "251997  251998  4522448   46           7         single          rented   \n",
       "251998  251999  6507128   45           0         single          rented   \n",
       "251999  252000  9070230   70          17         single          rented   \n",
       "\n",
       "       Car_Ownership           Profession                 CITY  \\\n",
       "0                 no  Mechanical_engineer                 Rewa   \n",
       "1                 no   Software_Developer             Parbhani   \n",
       "2                 no     Technical_writer            Alappuzha   \n",
       "3                yes   Software_Developer          Bhubaneswar   \n",
       "4                 no        Civil_servant  Tiruchirappalli[10]   \n",
       "...              ...                  ...                  ...   \n",
       "251995            no              Surgeon              Kolkata   \n",
       "251996            no         Army_officer                 Rewa   \n",
       "251997            no      Design_Engineer      Kalyan-Dombivli   \n",
       "251998            no     Graphic_Designer          Pondicherry   \n",
       "251999            no         Statistician                Avadi   \n",
       "\n",
       "                 STATE  CURRENT_JOB_YRS  CURRENT_HOUSE_YRS  Risk_Flag  \n",
       "0       Madhya_Pradesh                3                 13          0  \n",
       "1          Maharashtra                9                 13          0  \n",
       "2               Kerala                4                 10          0  \n",
       "3               Odisha                2                 12          1  \n",
       "4           Tamil_Nadu                3                 14          1  \n",
       "...                ...              ...                ...        ...  \n",
       "251995     West_Bengal                6                 11          0  \n",
       "251996  Madhya_Pradesh                6                 11          0  \n",
       "251997     Maharashtra                7                 12          0  \n",
       "251998      Puducherry                0                 10          0  \n",
       "251999      Tamil_Nadu                7                 11          0  \n",
       "\n",
       "[252000 rows x 13 columns]"
      ]
     },
     "execution_count": 2,
     "metadata": {},
     "output_type": "execute_result"
    }
   ],
   "source": [
    "df = pd.read_csv('Training Data.csv')\n",
    "df"
   ]
  },
  {
   "cell_type": "code",
   "execution_count": 3,
   "id": "b297ac04",
   "metadata": {},
   "outputs": [
    {
     "data": {
      "text/plain": [
       "Id                   0\n",
       "Income               0\n",
       "Age                  0\n",
       "Experience           0\n",
       "Married/Single       0\n",
       "House_Ownership      0\n",
       "Car_Ownership        0\n",
       "Profession           0\n",
       "CITY                 0\n",
       "STATE                0\n",
       "CURRENT_JOB_YRS      0\n",
       "CURRENT_HOUSE_YRS    0\n",
       "Risk_Flag            0\n",
       "dtype: int64"
      ]
     },
     "execution_count": 3,
     "metadata": {},
     "output_type": "execute_result"
    }
   ],
   "source": [
    "# Checking Null values\n",
    "df.isnull().sum()"
   ]
  },
  {
   "cell_type": "code",
   "execution_count": 4,
   "id": "fe7a229e",
   "metadata": {},
   "outputs": [
    {
     "data": {
      "text/plain": [
       "Id                    int64\n",
       "Income                int64\n",
       "Age                   int64\n",
       "Experience            int64\n",
       "Married/Single       object\n",
       "House_Ownership      object\n",
       "Car_Ownership        object\n",
       "Profession           object\n",
       "CITY                 object\n",
       "STATE                object\n",
       "CURRENT_JOB_YRS       int64\n",
       "CURRENT_HOUSE_YRS     int64\n",
       "Risk_Flag             int64\n",
       "dtype: object"
      ]
     },
     "execution_count": 4,
     "metadata": {},
     "output_type": "execute_result"
    }
   ],
   "source": [
    "# Checking dtype of every column\n",
    "df.dtypes"
   ]
  },
  {
   "cell_type": "code",
   "execution_count": 5,
   "id": "2f41d403",
   "metadata": {},
   "outputs": [
    {
     "data": {
      "text/plain": [
       "False    252000\n",
       "dtype: int64"
      ]
     },
     "execution_count": 5,
     "metadata": {},
     "output_type": "execute_result"
    }
   ],
   "source": [
    "df.duplicated().value_counts()"
   ]
  },
  {
   "cell_type": "code",
   "execution_count": 6,
   "id": "17ac2ee0",
   "metadata": {},
   "outputs": [
    {
     "data": {
      "text/plain": [
       "(252000, 13)"
      ]
     },
     "execution_count": 6,
     "metadata": {},
     "output_type": "execute_result"
    }
   ],
   "source": [
    "df.shape"
   ]
  },
  {
   "cell_type": "markdown",
   "id": "e0297c35",
   "metadata": {},
   "source": [
    "#  EDA"
   ]
  },
  {
   "cell_type": "code",
   "execution_count": 7,
   "id": "640bf9c9",
   "metadata": {},
   "outputs": [
    {
     "data": {
      "text/plain": [
       "0    221004\n",
       "1     30996\n",
       "Name: Risk_Flag, dtype: int64"
      ]
     },
     "execution_count": 7,
     "metadata": {},
     "output_type": "execute_result"
    },
    {
     "data": {
      "image/png": "[encoded data removed]",
      "text/plain": [
       "<Figure size 432x288 with 1 Axes>"
      ]
     },
     "metadata": {
      "needs_background": "light"
     },
     "output_type": "display_data"
    }
   ],
   "source": [
    "sns.countplot(x='Risk_Flag',data=df)\n",
    "df['Risk_Flag'].value_counts()"
   ]
  },
  {
   "cell_type": "markdown",
   "id": "149361ce",
   "metadata": {},
   "source": [
    "## Observation - \n",
    "There were around 31000 people out of 252000 who was not able to pay the loan.\n",
    "\n",
    "The data is highly Imbalanced - will do something in feature engineering"
   ]
  },
  {
   "cell_type": "markdown",
   "id": "363e948a",
   "metadata": {},
   "source": [
    "# Numerical Variables"
   ]
  },
  {
   "cell_type": "code",
   "execution_count": 8,
   "id": "bfb39171",
   "metadata": {},
   "outputs": [
    {
     "data": {
      "text/plain": [
       "Index(['Id', 'Income', 'Age', 'Experience', 'CURRENT_JOB_YRS',\n",
       "       'CURRENT_HOUSE_YRS', 'Risk_Flag'],\n",
       "      dtype='object')"
      ]
     },
     "execution_count": 8,
     "metadata": {},
     "output_type": "execute_result"
    }
   ],
   "source": [
    "numerical_features = df.select_dtypes(exclude='O').columns\n",
    "numerical_features"
   ]
  },
  {
   "cell_type": "markdown",
   "id": "42db3c13",
   "metadata": {},
   "source": [
    "# Discrete Variables"
   ]
  },
  {
   "cell_type": "code",
   "execution_count": 9,
   "id": "ff16514c",
   "metadata": {},
   "outputs": [
    {
     "data": {
      "text/plain": [
       "['CURRENT_HOUSE_YRS', 'Risk_Flag']"
      ]
     },
     "execution_count": 9,
     "metadata": {},
     "output_type": "execute_result"
    }
   ],
   "source": [
    "discrete_features = [features for features in numerical_features if len(df[features].unique())<=5]\n",
    "discrete_features"
   ]
  },
  {
   "cell_type": "code",
   "execution_count": 10,
   "id": "c0299318",
   "metadata": {},
   "outputs": [
    {
     "data": {
      "image/png": "[encoded data removed]",
      "text/plain": [
       "<Figure size 432x288 with 1 Axes>"
      ]
     },
     "metadata": {
      "needs_background": "light"
     },
     "output_type": "display_data"
    }
   ],
   "source": [
    "for features in discrete_features:\n",
    "    if features != 'Risk_Flag':\n",
    "        sns.countplot(x = 'Risk_Flag',hue = features,data = df , palette='terrain_r')\n",
    "        plt.title(features)\n",
    "        plt.legend(loc='right')\n",
    "        plt.show()"
   ]
  },
  {
   "cell_type": "markdown",
   "id": "5ae79773",
   "metadata": {},
   "source": [
    "## Observation - \n",
    "People of every year have not paid the loan at same level as we can see in 1"
   ]
  },
  {
   "cell_type": "code",
   "execution_count": 11,
   "id": "eef388a5",
   "metadata": {},
   "outputs": [
    {
     "data": {
      "text/plain": [
       "['Id', 'Income', 'Age', 'Experience', 'CURRENT_JOB_YRS']"
      ]
     },
     "execution_count": 11,
     "metadata": {},
     "output_type": "execute_result"
    }
   ],
   "source": [
    "continous_feature = [features for features in numerical_features if features not in discrete_features]\n",
    "continous_feature"
   ]
  },
  {
   "cell_type": "code",
   "execution_count": 12,
   "id": "d67bfd84",
   "metadata": {},
   "outputs": [
    {
     "data": {
      "image/png": "[encoded data removed]",
      "text/plain": [
       "<Figure size 432x288 with 1 Axes>"
      ]
     },
     "metadata": {
      "needs_background": "light"
     },
     "output_type": "display_data"
    },
    {
     "data": {
      "image/png": "[encoded data removed]",
      "text/plain": [
       "<Figure size 432x288 with 1 Axes>"
      ]
     },
     "metadata": {
      "needs_background": "light"
     },
     "output_type": "display_data"
    },
    {
     "data": {
      "image/png": "[encoded data removed]",
      "text/plain": [
       "<Figure size 432x288 with 1 Axes>"
      ]
     },
     "metadata": {
      "needs_background": "light"
     },
     "output_type": "display_data"
    },
    {
     "data": {
      "image/png": "[encoded data removed]",
      "text/plain": [
       "<Figure size 432x288 with 1 Axes>"
      ]
     },
     "metadata": {
      "needs_background": "light"
     },
     "output_type": "display_data"
    }
   ],
   "source": [
    "for features in continous_feature:\n",
    "    if features != 'Id':\n",
    "        df[features].hist(bins=35)\n",
    "        plt.xlabel(features)\n",
    "        plt.ylabel('Number of people')\n",
    "        plt.show()"
   ]
  },
  {
   "cell_type": "markdown",
   "id": "95bab361",
   "metadata": {},
   "source": [
    "## Observation\n",
    "More people have experience of 3 years in their current job"
   ]
  },
  {
   "cell_type": "markdown",
   "id": "e522acd7",
   "metadata": {},
   "source": [
    "# Categorical Variables"
   ]
  },
  {
   "cell_type": "code",
   "execution_count": 13,
   "id": "eb6391cb",
   "metadata": {},
   "outputs": [
    {
     "data": {
      "text/plain": [
       "Index(['Married/Single', 'House_Ownership', 'Car_Ownership', 'Profession',\n",
       "       'CITY', 'STATE'],\n",
       "      dtype='object')"
      ]
     },
     "execution_count": 13,
     "metadata": {},
     "output_type": "execute_result"
    }
   ],
   "source": [
    "categorical_features = df.select_dtypes(include='O').columns\n",
    "categorical_features"
   ]
  },
  {
   "cell_type": "code",
   "execution_count": 14,
   "id": "f1a58e37",
   "metadata": {},
   "outputs": [
    {
     "name": "stdout",
     "output_type": "stream",
     "text": [
      "Married/Single  Risk_Flag\n",
      "married         0             23092\n",
      "                1              2636\n",
      "single          0            197912\n",
      "                1             28360\n",
      "Name: Risk_Flag, dtype: int64\n"
     ]
    },
    {
     "data": {
      "image/png": "[encoded data removed]",
      "text/plain": [
       "<Figure size 432x288 with 1 Axes>"
      ]
     },
     "metadata": {
      "needs_background": "light"
     },
     "output_type": "display_data"
    },
    {
     "name": "stdout",
     "output_type": "stream",
     "text": [
      "House_Ownership  Risk_Flag\n",
      "norent_noown     0              6469\n",
      "                 1               715\n",
      "owned            0             11758\n",
      "                 1              1160\n",
      "rented           0            202777\n",
      "                 1             29121\n",
      "Name: Risk_Flag, dtype: int64\n"
     ]
    },
    {
     "data": {
      "image/png": "[encoded data removed]",
      "text/plain": [
       "<Figure size 432x288 with 1 Axes>"
      ]
     },
     "metadata": {
      "needs_background": "light"
     },
     "output_type": "display_data"
    },
    {
     "name": "stdout",
     "output_type": "stream",
     "text": [
      "Car_Ownership  Risk_Flag\n",
      "no             0            153439\n",
      "               1             22561\n",
      "yes            0             67565\n",
      "               1              8435\n",
      "Name: Risk_Flag, dtype: int64\n"
     ]
    },
    {
     "data": {
      "image/png": "[encoded data removed]",
      "text/plain": [
       "<Figure size 432x288 with 1 Axes>"
      ]
     },
     "metadata": {
      "needs_background": "light"
     },
     "output_type": "display_data"
    }
   ],
   "source": [
    "for features in categorical_features:\n",
    "    if features not in 'Profession'+'STATE'+'CITY':\n",
    "        print(df.groupby(features)['Risk_Flag'].value_counts())\n",
    "        sns.countplot(x=features,hue='Risk_Flag',data=df,palette='rainbow')\n",
    "        plt.title(features)\n",
    "        plt.show()"
   ]
  },
  {
   "cell_type": "markdown",
   "id": "06d9d327",
   "metadata": {},
   "source": [
    "## Observation\n",
    "1. More single people have not paid the loan\n",
    "2. More people who lives on rent have not paid the loan\n",
    "3. More people without cars have not paid the loan\n",
    "\n",
    "\n",
    "\n",
    "## Top 10 professions who had not paid the loan"
   ]
  },
  {
   "cell_type": "code",
   "execution_count": 15,
   "id": "2d9de654",
   "metadata": {},
   "outputs": [
    {
     "data": {
      "text/plain": [
       "Profession                  Risk_Flag\n",
       "Physician                   0            5247\n",
       "Statistician                0            5135\n",
       "Web_designer                0            4808\n",
       "Drafter                     0            4754\n",
       "Psychologist                0            4733\n",
       "Industrial_Engineer         0            4732\n",
       "Magistrate                  0            4714\n",
       "Fashion_Designer            0            4692\n",
       "Computer_hardware_engineer  0            4682\n",
       "Mechanical_engineer         0            4635\n",
       "Name: Risk_Flag, dtype: int64"
      ]
     },
     "execution_count": 15,
     "metadata": {},
     "output_type": "execute_result"
    }
   ],
   "source": [
    "df.groupby(['Profession'])['Risk_Flag'].value_counts().sort_values(ascending=False).iloc[:10]"
   ]
  },
  {
   "cell_type": "code",
   "execution_count": 16,
   "id": "b7ddadbb",
   "metadata": {},
   "outputs": [
    {
     "data": {
      "image/png": "[encoded data removed]",
      "text/plain": [
       "<Figure size 432x288 with 1 Axes>"
      ]
     },
     "metadata": {
      "needs_background": "light"
     },
     "output_type": "display_data"
    }
   ],
   "source": [
    "sns.countplot(y=df['Profession'],order=df['Profession'].value_counts().iloc[:10].index,palette='GnBu_r')\n",
    "plt.title('Top 10 Professions not paid loan')\n",
    "plt.xlabel('Profession')\n",
    "plt.ylabel('Number of people')\n",
    "plt.show()"
   ]
  },
  {
   "cell_type": "markdown",
   "id": "4ee149e2",
   "metadata": {},
   "source": [
    "## Top 10 State from which people have not paid the loan"
   ]
  },
  {
   "cell_type": "code",
   "execution_count": 17,
   "id": "4c2b1b02",
   "metadata": {},
   "outputs": [
    {
     "data": {
      "text/plain": [
       "STATE           Risk_Flag\n",
       "Uttar_Pradesh   0            25057\n",
       "Maharashtra     0            22667\n",
       "Andhra_Pradesh  0            22362\n",
       "West_Bengal     0            20474\n",
       "Bihar           0            17197\n",
       "Tamil_Nadu      0            14831\n",
       "Madhya_Pradesh  0            11942\n",
       "Karnataka       0            10666\n",
       "Gujarat         0            10065\n",
       "Rajasthan       0             7882\n",
       "Name: Risk_Flag, dtype: int64"
      ]
     },
     "execution_count": 17,
     "metadata": {},
     "output_type": "execute_result"
    }
   ],
   "source": [
    "df.groupby('STATE')['Risk_Flag'].value_counts().sort_values(ascending=False).iloc[0:10]"
   ]
  },
  {
   "cell_type": "code",
   "execution_count": 18,
   "id": "54d7faaa",
   "metadata": {},
   "outputs": [
    {
     "data": {
      "image/png": "[encoded data removed]",
      "text/plain": [
       "<Figure size 432x288 with 1 Axes>"
      ]
     },
     "metadata": {
      "needs_background": "light"
     },
     "output_type": "display_data"
    }
   ],
   "source": [
    "sns.countplot(y=df['STATE'],order=df['STATE'].value_counts().iloc[:10].index,palette='GnBu_r')\n",
    "plt.title('Top 10 State not paid loan')\n",
    "plt.xlabel('State')\n",
    "plt.ylabel('Number of people')\n",
    "plt.show()"
   ]
  },
  {
   "cell_type": "markdown",
   "id": "b2f5ae30",
   "metadata": {},
   "source": [
    "## Top 10 City from which people have not paid the loan"
   ]
  },
  {
   "cell_type": "code",
   "execution_count": 19,
   "id": "2d18628c",
   "metadata": {},
   "outputs": [
    {
     "data": {
      "text/plain": [
       "CITY           Risk_Flag\n",
       "Vijayanagaram  0            1110\n",
       "Saharsa[29]    0            1067\n",
       "Bulandshahr    0            1061\n",
       "Bhopal         0            1042\n",
       "Vijayawada     0            1025\n",
       "New_Delhi      0            1024\n",
       "Bellary        0             992\n",
       "Satara         0             992\n",
       "Bareilly       0             992\n",
       "Jodhpur        0             974\n",
       "Name: Risk_Flag, dtype: int64"
      ]
     },
     "execution_count": 19,
     "metadata": {},
     "output_type": "execute_result"
    }
   ],
   "source": [
    "df.groupby('CITY')['Risk_Flag'].value_counts().sort_values(ascending=False).iloc[0:10]"
   ]
  },
  {
   "cell_type": "code",
   "execution_count": 20,
   "id": "1ba3fdda",
   "metadata": {},
   "outputs": [
    {
     "data": {
      "image/png": "[encoded data removed]",
      "text/plain": [
       "<Figure size 432x288 with 1 Axes>"
      ]
     },
     "metadata": {
      "needs_background": "light"
     },
     "output_type": "display_data"
    }
   ],
   "source": [
    "sns.countplot(y=df['CITY'],order=df['CITY'].value_counts().iloc[:10].index,palette='GnBu_r')\n",
    "plt.title('Top 10 City not paid loan')\n",
    "plt.xlabel('State')\n",
    "plt.ylabel('Number of people')\n",
    "plt.show()"
   ]
  },
  {
   "cell_type": "code",
   "execution_count": 21,
   "id": "cd80c84d",
   "metadata": {},
   "outputs": [
    {
     "data": {
      "text/plain": [
       "Index(['Married/Single', 'House_Ownership', 'Car_Ownership', 'Profession',\n",
       "       'CITY', 'STATE'],\n",
       "      dtype='object')"
      ]
     },
     "execution_count": 21,
     "metadata": {},
     "output_type": "execute_result"
    }
   ],
   "source": [
    "categorical_features"
   ]
  },
  {
   "cell_type": "markdown",
   "id": "7864a761",
   "metadata": {},
   "source": [
    "# Feature Engineering"
   ]
  },
  {
   "cell_type": "code",
   "execution_count": 22,
   "id": "b85191c5",
   "metadata": {},
   "outputs": [],
   "source": [
    "# Dropping some columns because they will not help in predicting the Price\n",
    "\n",
    "df.drop(columns=['Id','CITY','STATE'],inplace=True)"
   ]
  },
  {
   "cell_type": "code",
   "execution_count": 23,
   "id": "7840ed8e",
   "metadata": {},
   "outputs": [
    {
     "data": {
      "text/html": [
       "<div>\n",
       "<style scoped>\n",
       "    .dataframe tbody tr th:only-of-type {\n",
       "        vertical-align: middle;\n",
       "    }\n",
       "\n",
       "    .dataframe tbody tr th {\n",
       "        vertical-align: top;\n",
       "    }\n",
       "\n",
       "    .dataframe thead th {\n",
       "        text-align: right;\n",
       "    }\n",
       "</style>\n",
       "<table border=\"1\" class=\"dataframe\">\n",
       "  <thead>\n",
       "    <tr style=\"text-align: right;\">\n",
       "      <th></th>\n",
       "      <th>Income</th>\n",
       "      <th>Age</th>\n",
       "      <th>Experience</th>\n",
       "      <th>Married/Single</th>\n",
       "      <th>House_Ownership</th>\n",
       "      <th>Car_Ownership</th>\n",
       "      <th>Profession</th>\n",
       "      <th>CURRENT_JOB_YRS</th>\n",
       "      <th>CURRENT_HOUSE_YRS</th>\n",
       "      <th>Risk_Flag</th>\n",
       "    </tr>\n",
       "  </thead>\n",
       "  <tbody>\n",
       "    <tr>\n",
       "      <th>0</th>\n",
       "      <td>1303834</td>\n",
       "      <td>23</td>\n",
       "      <td>3</td>\n",
       "      <td>single</td>\n",
       "      <td>rented</td>\n",
       "      <td>no</td>\n",
       "      <td>Mechanical_engineer</td>\n",
       "      <td>3</td>\n",
       "      <td>13</td>\n",
       "      <td>0</td>\n",
       "    </tr>\n",
       "    <tr>\n",
       "      <th>1</th>\n",
       "      <td>7574516</td>\n",
       "      <td>40</td>\n",
       "      <td>10</td>\n",
       "      <td>single</td>\n",
       "      <td>rented</td>\n",
       "      <td>no</td>\n",
       "      <td>Software_Developer</td>\n",
       "      <td>9</td>\n",
       "      <td>13</td>\n",
       "      <td>0</td>\n",
       "    </tr>\n",
       "    <tr>\n",
       "      <th>2</th>\n",
       "      <td>3991815</td>\n",
       "      <td>66</td>\n",
       "      <td>4</td>\n",
       "      <td>married</td>\n",
       "      <td>rented</td>\n",
       "      <td>no</td>\n",
       "      <td>Technical_writer</td>\n",
       "      <td>4</td>\n",
       "      <td>10</td>\n",
       "      <td>0</td>\n",
       "    </tr>\n",
       "    <tr>\n",
       "      <th>3</th>\n",
       "      <td>6256451</td>\n",
       "      <td>41</td>\n",
       "      <td>2</td>\n",
       "      <td>single</td>\n",
       "      <td>rented</td>\n",
       "      <td>yes</td>\n",
       "      <td>Software_Developer</td>\n",
       "      <td>2</td>\n",
       "      <td>12</td>\n",
       "      <td>1</td>\n",
       "    </tr>\n",
       "    <tr>\n",
       "      <th>4</th>\n",
       "      <td>5768871</td>\n",
       "      <td>47</td>\n",
       "      <td>11</td>\n",
       "      <td>single</td>\n",
       "      <td>rented</td>\n",
       "      <td>no</td>\n",
       "      <td>Civil_servant</td>\n",
       "      <td>3</td>\n",
       "      <td>14</td>\n",
       "      <td>1</td>\n",
       "    </tr>\n",
       "    <tr>\n",
       "      <th>...</th>\n",
       "      <td>...</td>\n",
       "      <td>...</td>\n",
       "      <td>...</td>\n",
       "      <td>...</td>\n",
       "      <td>...</td>\n",
       "      <td>...</td>\n",
       "      <td>...</td>\n",
       "      <td>...</td>\n",
       "      <td>...</td>\n",
       "      <td>...</td>\n",
       "    </tr>\n",
       "    <tr>\n",
       "      <th>251995</th>\n",
       "      <td>8154883</td>\n",
       "      <td>43</td>\n",
       "      <td>13</td>\n",
       "      <td>single</td>\n",
       "      <td>rented</td>\n",
       "      <td>no</td>\n",
       "      <td>Surgeon</td>\n",
       "      <td>6</td>\n",
       "      <td>11</td>\n",
       "      <td>0</td>\n",
       "    </tr>\n",
       "    <tr>\n",
       "      <th>251996</th>\n",
       "      <td>2843572</td>\n",
       "      <td>26</td>\n",
       "      <td>10</td>\n",
       "      <td>single</td>\n",
       "      <td>rented</td>\n",
       "      <td>no</td>\n",
       "      <td>Army_officer</td>\n",
       "      <td>6</td>\n",
       "      <td>11</td>\n",
       "      <td>0</td>\n",
       "    </tr>\n",
       "    <tr>\n",
       "      <th>251997</th>\n",
       "      <td>4522448</td>\n",
       "      <td>46</td>\n",
       "      <td>7</td>\n",
       "      <td>single</td>\n",
       "      <td>rented</td>\n",
       "      <td>no</td>\n",
       "      <td>Design_Engineer</td>\n",
       "      <td>7</td>\n",
       "      <td>12</td>\n",
       "      <td>0</td>\n",
       "    </tr>\n",
       "    <tr>\n",
       "      <th>251998</th>\n",
       "      <td>6507128</td>\n",
       "      <td>45</td>\n",
       "      <td>0</td>\n",
       "      <td>single</td>\n",
       "      <td>rented</td>\n",
       "      <td>no</td>\n",
       "      <td>Graphic_Designer</td>\n",
       "      <td>0</td>\n",
       "      <td>10</td>\n",
       "      <td>0</td>\n",
       "    </tr>\n",
       "    <tr>\n",
       "      <th>251999</th>\n",
       "      <td>9070230</td>\n",
       "      <td>70</td>\n",
       "      <td>17</td>\n",
       "      <td>single</td>\n",
       "      <td>rented</td>\n",
       "      <td>no</td>\n",
       "      <td>Statistician</td>\n",
       "      <td>7</td>\n",
       "      <td>11</td>\n",
       "      <td>0</td>\n",
       "    </tr>\n",
       "  </tbody>\n",
       "</table>\n",
       "<p>252000 rows × 10 columns</p>\n",
       "</div>"
      ],
      "text/plain": [
       "         Income  Age  Experience Married/Single House_Ownership Car_Ownership  \\\n",
       "0       1303834   23           3         single          rented            no   \n",
       "1       7574516   40          10         single          rented            no   \n",
       "2       3991815   66           4        married          rented            no   \n",
       "3       6256451   41           2         single          rented           yes   \n",
       "4       5768871   47          11         single          rented            no   \n",
       "...         ...  ...         ...            ...             ...           ...   \n",
       "251995  8154883   43          13         single          rented            no   \n",
       "251996  2843572   26          10         single          rented            no   \n",
       "251997  4522448   46           7         single          rented            no   \n",
       "251998  6507128   45           0         single          rented            no   \n",
       "251999  9070230   70          17         single          rented            no   \n",
       "\n",
       "                 Profession  CURRENT_JOB_YRS  CURRENT_HOUSE_YRS  Risk_Flag  \n",
       "0       Mechanical_engineer                3                 13          0  \n",
       "1        Software_Developer                9                 13          0  \n",
       "2          Technical_writer                4                 10          0  \n",
       "3        Software_Developer                2                 12          1  \n",
       "4             Civil_servant                3                 14          1  \n",
       "...                     ...              ...                ...        ...  \n",
       "251995              Surgeon                6                 11          0  \n",
       "251996         Army_officer                6                 11          0  \n",
       "251997      Design_Engineer                7                 12          0  \n",
       "251998     Graphic_Designer                0                 10          0  \n",
       "251999         Statistician                7                 11          0  \n",
       "\n",
       "[252000 rows x 10 columns]"
      ]
     },
     "execution_count": 23,
     "metadata": {},
     "output_type": "execute_result"
    }
   ],
   "source": [
    "df"
   ]
  },
  {
   "cell_type": "markdown",
   "id": "ae99e297",
   "metadata": {},
   "source": [
    "### Performing One hot encoding on Married/Single, House Ownership and Car_Ownership "
   ]
  },
  {
   "cell_type": "code",
   "execution_count": 24,
   "id": "72f6cac9",
   "metadata": {},
   "outputs": [],
   "source": [
    "cols = ['Married/Single','House_Ownership','Car_Ownership']\n",
    "for col in cols:\n",
    "    dummy = pd.get_dummies(df[col],drop_first=True)\n",
    "    df = pd.concat([df,dummy],axis=1)\n",
    "    df.drop(columns=[col],inplace=True)"
   ]
  },
  {
   "cell_type": "code",
   "execution_count": 25,
   "id": "8f11dfae",
   "metadata": {},
   "outputs": [
    {
     "data": {
      "text/html": [
       "<div>\n",
       "<style scoped>\n",
       "    .dataframe tbody tr th:only-of-type {\n",
       "        vertical-align: middle;\n",
       "    }\n",
       "\n",
       "    .dataframe tbody tr th {\n",
       "        vertical-align: top;\n",
       "    }\n",
       "\n",
       "    .dataframe thead th {\n",
       "        text-align: right;\n",
       "    }\n",
       "</style>\n",
       "<table border=\"1\" class=\"dataframe\">\n",
       "  <thead>\n",
       "    <tr style=\"text-align: right;\">\n",
       "      <th></th>\n",
       "      <th>Income</th>\n",
       "      <th>Age</th>\n",
       "      <th>Experience</th>\n",
       "      <th>Profession</th>\n",
       "      <th>CURRENT_JOB_YRS</th>\n",
       "      <th>CURRENT_HOUSE_YRS</th>\n",
       "      <th>Risk_Flag</th>\n",
       "      <th>single</th>\n",
       "      <th>owned</th>\n",
       "      <th>rented</th>\n",
       "      <th>yes</th>\n",
       "    </tr>\n",
       "  </thead>\n",
       "  <tbody>\n",
       "    <tr>\n",
       "      <th>0</th>\n",
       "      <td>1303834</td>\n",
       "      <td>23</td>\n",
       "      <td>3</td>\n",
       "      <td>Mechanical_engineer</td>\n",
       "      <td>3</td>\n",
       "      <td>13</td>\n",
       "      <td>0</td>\n",
       "      <td>1</td>\n",
       "      <td>0</td>\n",
       "      <td>1</td>\n",
       "      <td>0</td>\n",
       "    </tr>\n",
       "    <tr>\n",
       "      <th>1</th>\n",
       "      <td>7574516</td>\n",
       "      <td>40</td>\n",
       "      <td>10</td>\n",
       "      <td>Software_Developer</td>\n",
       "      <td>9</td>\n",
       "      <td>13</td>\n",
       "      <td>0</td>\n",
       "      <td>1</td>\n",
       "      <td>0</td>\n",
       "      <td>1</td>\n",
       "      <td>0</td>\n",
       "    </tr>\n",
       "    <tr>\n",
       "      <th>2</th>\n",
       "      <td>3991815</td>\n",
       "      <td>66</td>\n",
       "      <td>4</td>\n",
       "      <td>Technical_writer</td>\n",
       "      <td>4</td>\n",
       "      <td>10</td>\n",
       "      <td>0</td>\n",
       "      <td>0</td>\n",
       "      <td>0</td>\n",
       "      <td>1</td>\n",
       "      <td>0</td>\n",
       "    </tr>\n",
       "    <tr>\n",
       "      <th>3</th>\n",
       "      <td>6256451</td>\n",
       "      <td>41</td>\n",
       "      <td>2</td>\n",
       "      <td>Software_Developer</td>\n",
       "      <td>2</td>\n",
       "      <td>12</td>\n",
       "      <td>1</td>\n",
       "      <td>1</td>\n",
       "      <td>0</td>\n",
       "      <td>1</td>\n",
       "      <td>1</td>\n",
       "    </tr>\n",
       "    <tr>\n",
       "      <th>4</th>\n",
       "      <td>5768871</td>\n",
       "      <td>47</td>\n",
       "      <td>11</td>\n",
       "      <td>Civil_servant</td>\n",
       "      <td>3</td>\n",
       "      <td>14</td>\n",
       "      <td>1</td>\n",
       "      <td>1</td>\n",
       "      <td>0</td>\n",
       "      <td>1</td>\n",
       "      <td>0</td>\n",
       "    </tr>\n",
       "    <tr>\n",
       "      <th>...</th>\n",
       "      <td>...</td>\n",
       "      <td>...</td>\n",
       "      <td>...</td>\n",
       "      <td>...</td>\n",
       "      <td>...</td>\n",
       "      <td>...</td>\n",
       "      <td>...</td>\n",
       "      <td>...</td>\n",
       "      <td>...</td>\n",
       "      <td>...</td>\n",
       "      <td>...</td>\n",
       "    </tr>\n",
       "    <tr>\n",
       "      <th>251995</th>\n",
       "      <td>8154883</td>\n",
       "      <td>43</td>\n",
       "      <td>13</td>\n",
       "      <td>Surgeon</td>\n",
       "      <td>6</td>\n",
       "      <td>11</td>\n",
       "      <td>0</td>\n",
       "      <td>1</td>\n",
       "      <td>0</td>\n",
       "      <td>1</td>\n",
       "      <td>0</td>\n",
       "    </tr>\n",
       "    <tr>\n",
       "      <th>251996</th>\n",
       "      <td>2843572</td>\n",
       "      <td>26</td>\n",
       "      <td>10</td>\n",
       "      <td>Army_officer</td>\n",
       "      <td>6</td>\n",
       "      <td>11</td>\n",
       "      <td>0</td>\n",
       "      <td>1</td>\n",
       "      <td>0</td>\n",
       "      <td>1</td>\n",
       "      <td>0</td>\n",
       "    </tr>\n",
       "    <tr>\n",
       "      <th>251997</th>\n",
       "      <td>4522448</td>\n",
       "      <td>46</td>\n",
       "      <td>7</td>\n",
       "      <td>Design_Engineer</td>\n",
       "      <td>7</td>\n",
       "      <td>12</td>\n",
       "      <td>0</td>\n",
       "      <td>1</td>\n",
       "      <td>0</td>\n",
       "      <td>1</td>\n",
       "      <td>0</td>\n",
       "    </tr>\n",
       "    <tr>\n",
       "      <th>251998</th>\n",
       "      <td>6507128</td>\n",
       "      <td>45</td>\n",
       "      <td>0</td>\n",
       "      <td>Graphic_Designer</td>\n",
       "      <td>0</td>\n",
       "      <td>10</td>\n",
       "      <td>0</td>\n",
       "      <td>1</td>\n",
       "      <td>0</td>\n",
       "      <td>1</td>\n",
       "      <td>0</td>\n",
       "    </tr>\n",
       "    <tr>\n",
       "      <th>251999</th>\n",
       "      <td>9070230</td>\n",
       "      <td>70</td>\n",
       "      <td>17</td>\n",
       "      <td>Statistician</td>\n",
       "      <td>7</td>\n",
       "      <td>11</td>\n",
       "      <td>0</td>\n",
       "      <td>1</td>\n",
       "      <td>0</td>\n",
       "      <td>1</td>\n",
       "      <td>0</td>\n",
       "    </tr>\n",
       "  </tbody>\n",
       "</table>\n",
       "<p>252000 rows × 11 columns</p>\n",
       "</div>"
      ],
      "text/plain": [
       "         Income  Age  Experience           Profession  CURRENT_JOB_YRS  \\\n",
       "0       1303834   23           3  Mechanical_engineer                3   \n",
       "1       7574516   40          10   Software_Developer                9   \n",
       "2       3991815   66           4     Technical_writer                4   \n",
       "3       6256451   41           2   Software_Developer                2   \n",
       "4       5768871   47          11        Civil_servant                3   \n",
       "...         ...  ...         ...                  ...              ...   \n",
       "251995  8154883   43          13              Surgeon                6   \n",
       "251996  2843572   26          10         Army_officer                6   \n",
       "251997  4522448   46           7      Design_Engineer                7   \n",
       "251998  6507128   45           0     Graphic_Designer                0   \n",
       "251999  9070230   70          17         Statistician                7   \n",
       "\n",
       "        CURRENT_HOUSE_YRS  Risk_Flag  single  owned  rented  yes  \n",
       "0                      13          0       1      0       1    0  \n",
       "1                      13          0       1      0       1    0  \n",
       "2                      10          0       0      0       1    0  \n",
       "3                      12          1       1      0       1    1  \n",
       "4                      14          1       1      0       1    0  \n",
       "...                   ...        ...     ...    ...     ...  ...  \n",
       "251995                 11          0       1      0       1    0  \n",
       "251996                 11          0       1      0       1    0  \n",
       "251997                 12          0       1      0       1    0  \n",
       "251998                 10          0       1      0       1    0  \n",
       "251999                 11          0       1      0       1    0  \n",
       "\n",
       "[252000 rows x 11 columns]"
      ]
     },
     "execution_count": 25,
     "metadata": {},
     "output_type": "execute_result"
    }
   ],
   "source": [
    "df"
   ]
  },
  {
   "cell_type": "code",
   "execution_count": 26,
   "id": "01e34bae",
   "metadata": {},
   "outputs": [],
   "source": [
    "df['Profession'] = LabelEncoder().fit_transform(df['Profession'])"
   ]
  },
  {
   "cell_type": "code",
   "execution_count": 27,
   "id": "79bf351b",
   "metadata": {},
   "outputs": [
    {
     "data": {
      "text/html": [
       "<div>\n",
       "<style scoped>\n",
       "    .dataframe tbody tr th:only-of-type {\n",
       "        vertical-align: middle;\n",
       "    }\n",
       "\n",
       "    .dataframe tbody tr th {\n",
       "        vertical-align: top;\n",
       "    }\n",
       "\n",
       "    .dataframe thead th {\n",
       "        text-align: right;\n",
       "    }\n",
       "</style>\n",
       "<table border=\"1\" class=\"dataframe\">\n",
       "  <thead>\n",
       "    <tr style=\"text-align: right;\">\n",
       "      <th></th>\n",
       "      <th>Income</th>\n",
       "      <th>Age</th>\n",
       "      <th>Experience</th>\n",
       "      <th>Profession</th>\n",
       "      <th>CURRENT_JOB_YRS</th>\n",
       "      <th>CURRENT_HOUSE_YRS</th>\n",
       "      <th>Risk_Flag</th>\n",
       "      <th>single</th>\n",
       "      <th>owned</th>\n",
       "      <th>rented</th>\n",
       "      <th>yes</th>\n",
       "    </tr>\n",
       "  </thead>\n",
       "  <tbody>\n",
       "    <tr>\n",
       "      <th>0</th>\n",
       "      <td>1303834</td>\n",
       "      <td>23</td>\n",
       "      <td>3</td>\n",
       "      <td>33</td>\n",
       "      <td>3</td>\n",
       "      <td>13</td>\n",
       "      <td>0</td>\n",
       "      <td>1</td>\n",
       "      <td>0</td>\n",
       "      <td>1</td>\n",
       "      <td>0</td>\n",
       "    </tr>\n",
       "    <tr>\n",
       "      <th>1</th>\n",
       "      <td>7574516</td>\n",
       "      <td>40</td>\n",
       "      <td>10</td>\n",
       "      <td>43</td>\n",
       "      <td>9</td>\n",
       "      <td>13</td>\n",
       "      <td>0</td>\n",
       "      <td>1</td>\n",
       "      <td>0</td>\n",
       "      <td>1</td>\n",
       "      <td>0</td>\n",
       "    </tr>\n",
       "    <tr>\n",
       "      <th>2</th>\n",
       "      <td>3991815</td>\n",
       "      <td>66</td>\n",
       "      <td>4</td>\n",
       "      <td>47</td>\n",
       "      <td>4</td>\n",
       "      <td>10</td>\n",
       "      <td>0</td>\n",
       "      <td>0</td>\n",
       "      <td>0</td>\n",
       "      <td>1</td>\n",
       "      <td>0</td>\n",
       "    </tr>\n",
       "    <tr>\n",
       "      <th>3</th>\n",
       "      <td>6256451</td>\n",
       "      <td>41</td>\n",
       "      <td>2</td>\n",
       "      <td>43</td>\n",
       "      <td>2</td>\n",
       "      <td>12</td>\n",
       "      <td>1</td>\n",
       "      <td>1</td>\n",
       "      <td>0</td>\n",
       "      <td>1</td>\n",
       "      <td>1</td>\n",
       "    </tr>\n",
       "    <tr>\n",
       "      <th>4</th>\n",
       "      <td>5768871</td>\n",
       "      <td>47</td>\n",
       "      <td>11</td>\n",
       "      <td>11</td>\n",
       "      <td>3</td>\n",
       "      <td>14</td>\n",
       "      <td>1</td>\n",
       "      <td>1</td>\n",
       "      <td>0</td>\n",
       "      <td>1</td>\n",
       "      <td>0</td>\n",
       "    </tr>\n",
       "    <tr>\n",
       "      <th>...</th>\n",
       "      <td>...</td>\n",
       "      <td>...</td>\n",
       "      <td>...</td>\n",
       "      <td>...</td>\n",
       "      <td>...</td>\n",
       "      <td>...</td>\n",
       "      <td>...</td>\n",
       "      <td>...</td>\n",
       "      <td>...</td>\n",
       "      <td>...</td>\n",
       "      <td>...</td>\n",
       "    </tr>\n",
       "    <tr>\n",
       "      <th>251995</th>\n",
       "      <td>8154883</td>\n",
       "      <td>43</td>\n",
       "      <td>13</td>\n",
       "      <td>45</td>\n",
       "      <td>6</td>\n",
       "      <td>11</td>\n",
       "      <td>0</td>\n",
       "      <td>1</td>\n",
       "      <td>0</td>\n",
       "      <td>1</td>\n",
       "      <td>0</td>\n",
       "    </tr>\n",
       "    <tr>\n",
       "      <th>251996</th>\n",
       "      <td>2843572</td>\n",
       "      <td>26</td>\n",
       "      <td>10</td>\n",
       "      <td>3</td>\n",
       "      <td>6</td>\n",
       "      <td>11</td>\n",
       "      <td>0</td>\n",
       "      <td>1</td>\n",
       "      <td>0</td>\n",
       "      <td>1</td>\n",
       "      <td>0</td>\n",
       "    </tr>\n",
       "    <tr>\n",
       "      <th>251997</th>\n",
       "      <td>4522448</td>\n",
       "      <td>46</td>\n",
       "      <td>7</td>\n",
       "      <td>17</td>\n",
       "      <td>7</td>\n",
       "      <td>12</td>\n",
       "      <td>0</td>\n",
       "      <td>1</td>\n",
       "      <td>0</td>\n",
       "      <td>1</td>\n",
       "      <td>0</td>\n",
       "    </tr>\n",
       "    <tr>\n",
       "      <th>251998</th>\n",
       "      <td>6507128</td>\n",
       "      <td>45</td>\n",
       "      <td>0</td>\n",
       "      <td>27</td>\n",
       "      <td>0</td>\n",
       "      <td>10</td>\n",
       "      <td>0</td>\n",
       "      <td>1</td>\n",
       "      <td>0</td>\n",
       "      <td>1</td>\n",
       "      <td>0</td>\n",
       "    </tr>\n",
       "    <tr>\n",
       "      <th>251999</th>\n",
       "      <td>9070230</td>\n",
       "      <td>70</td>\n",
       "      <td>17</td>\n",
       "      <td>44</td>\n",
       "      <td>7</td>\n",
       "      <td>11</td>\n",
       "      <td>0</td>\n",
       "      <td>1</td>\n",
       "      <td>0</td>\n",
       "      <td>1</td>\n",
       "      <td>0</td>\n",
       "    </tr>\n",
       "  </tbody>\n",
       "</table>\n",
       "<p>252000 rows × 11 columns</p>\n",
       "</div>"
      ],
      "text/plain": [
       "         Income  Age  Experience  Profession  CURRENT_JOB_YRS  \\\n",
       "0       1303834   23           3          33                3   \n",
       "1       7574516   40          10          43                9   \n",
       "2       3991815   66           4          47                4   \n",
       "3       6256451   41           2          43                2   \n",
       "4       5768871   47          11          11                3   \n",
       "...         ...  ...         ...         ...              ...   \n",
       "251995  8154883   43          13          45                6   \n",
       "251996  2843572   26          10           3                6   \n",
       "251997  4522448   46           7          17                7   \n",
       "251998  6507128   45           0          27                0   \n",
       "251999  9070230   70          17          44                7   \n",
       "\n",
       "        CURRENT_HOUSE_YRS  Risk_Flag  single  owned  rented  yes  \n",
       "0                      13          0       1      0       1    0  \n",
       "1                      13          0       1      0       1    0  \n",
       "2                      10          0       0      0       1    0  \n",
       "3                      12          1       1      0       1    1  \n",
       "4                      14          1       1      0       1    0  \n",
       "...                   ...        ...     ...    ...     ...  ...  \n",
       "251995                 11          0       1      0       1    0  \n",
       "251996                 11          0       1      0       1    0  \n",
       "251997                 12          0       1      0       1    0  \n",
       "251998                 10          0       1      0       1    0  \n",
       "251999                 11          0       1      0       1    0  \n",
       "\n",
       "[252000 rows x 11 columns]"
      ]
     },
     "execution_count": 27,
     "metadata": {},
     "output_type": "execute_result"
    }
   ],
   "source": [
    "df"
   ]
  },
  {
   "cell_type": "code",
   "execution_count": 28,
   "id": "2eb50cbe",
   "metadata": {},
   "outputs": [],
   "source": [
    "X = df.drop('Risk_Flag',axis=1)\n",
    "y = df['Risk_Flag']"
   ]
  },
  {
   "cell_type": "code",
   "execution_count": 29,
   "id": "5c7d2288",
   "metadata": {},
   "outputs": [],
   "source": [
    "sc = StandardScaler()\n",
    "X_scaled = sc.fit_transform(X)"
   ]
  },
  {
   "cell_type": "markdown",
   "id": "74493de2",
   "metadata": {},
   "source": [
    "## Most important feature"
   ]
  },
  {
   "cell_type": "code",
   "execution_count": 30,
   "id": "4b0696c0",
   "metadata": {},
   "outputs": [
    {
     "data": {
      "text/plain": [
       "<AxesSubplot:>"
      ]
     },
     "execution_count": 30,
     "metadata": {},
     "output_type": "execute_result"
    },
    {
     "data": {
      "image/png": "[encoded data removed]",
      "text/plain": [
       "<Figure size 432x288 with 1 Axes>"
      ]
     },
     "metadata": {
      "needs_background": "light"
     },
     "output_type": "display_data"
    }
   ],
   "source": [
    "imp_feature = ExtraTreeClassifier()\n",
    "imp_feature.fit(X,y)\n",
    "feature_imp = pd.Series(imp_feature.feature_importances_,index=X.columns)\n",
    "feature_imp.nlargest(10).plot.barh()"
   ]
  },
  {
   "cell_type": "markdown",
   "id": "c68a5fb1",
   "metadata": {},
   "source": [
    "### In EDA we have seen that the data is imbalanced. So let's do oversampling"
   ]
  },
  {
   "cell_type": "code",
   "execution_count": 31,
   "id": "ccfb242e",
   "metadata": {},
   "outputs": [],
   "source": [
    "X_scaled, y = SMOTE().fit_resample(X_scaled, y)"
   ]
  },
  {
   "cell_type": "code",
   "execution_count": 32,
   "id": "59c6bd7c",
   "metadata": {},
   "outputs": [],
   "source": [
    "X_train, X_test, y_train, y_test = train_test_split(X_scaled, y, test_size = 0.30, random_state = np.random.randint(100))"
   ]
  },
  {
   "cell_type": "code",
   "execution_count": 33,
   "id": "8f1cc5f6",
   "metadata": {},
   "outputs": [],
   "source": [
    "model = RandomForestClassifier()\n",
    "# Number of trees in random forest\n",
    "n_estimators = [int(x) for x in np.linspace(start = 200, stop = 2000, num = 10)]\n",
    "\n",
    "# Number of features to consider at every split\n",
    "max_features = ['auto', 'sqrt']\n",
    "\n",
    "# Maximum number of levels in tree\n",
    "max_depth = [int(x) for x in np.linspace(10, 110, num = 11)]\n",
    "\n",
    "# Minimum number of samples required to split a node\n",
    "min_samples_split = [2, 5, 10]\n",
    "\n",
    "# Minimum number of samples required at each leaf node\n",
    "min_samples_leaf = [1, 2, 4]\n",
    "\n",
    "# Method of selecting samples for training each tree\n",
    "bootstrap = [True, False]# Create the random grid\n",
    "random_grid = {'n_estimators': n_estimators,\n",
    "               'max_features': max_features,\n",
    "               'max_depth': max_depth,\n",
    "               'min_samples_split': min_samples_split,\n",
    "               'min_samples_leaf': min_samples_leaf,\n",
    "               'bootstrap': bootstrap}"
   ]
  },
  {
   "cell_type": "code",
   "execution_count": 34,
   "id": "baca04e2",
   "metadata": {},
   "outputs": [],
   "source": [
    "# cv = StratifiedShuffleSplit(n_splits = 10, test_size = 0.4, random_state = 0 )\n",
    "# model_cv = RandomizedSearchCV(estimator=model,param_distributions=random_grid,scoring='accuracy',cv=cv,random_state = 42,n_iter=10)\n",
    "\n",
    "# model_cv.fit(X_train,y_train)"
   ]
  },
  {
   "cell_type": "code",
   "execution_count": 35,
   "id": "3d0d4e87",
   "metadata": {},
   "outputs": [],
   "source": [
    "model.fit(X_train,y_train)\n",
    "y_pred = model.predict(X_test)"
   ]
  },
  {
   "cell_type": "code",
   "execution_count": 36,
   "id": "56312bda",
   "metadata": {},
   "outputs": [
    {
     "data": {
      "text/plain": [
       "0.9407705708015656"
      ]
     },
     "execution_count": 36,
     "metadata": {},
     "output_type": "execute_result"
    }
   ],
   "source": [
    "accuracy_score(y_test,y_pred)"
   ]
  },
  {
   "cell_type": "code",
   "execution_count": 37,
   "id": "661ca1e0",
   "metadata": {},
   "outputs": [
    {
     "name": "stdout",
     "output_type": "stream",
     "text": [
      "              precision    recall  f1-score   support\n",
      "\n",
      "           0       0.98      0.90      0.94     66340\n",
      "           1       0.91      0.98      0.94     66263\n",
      "\n",
      "    accuracy                           0.94    132603\n",
      "   macro avg       0.94      0.94      0.94    132603\n",
      "weighted avg       0.94      0.94      0.94    132603\n",
      "\n"
     ]
    }
   ],
   "source": [
    "print(classification_report(y_test, y_pred))"
   ]
  },
  {
   "cell_type": "code",
   "execution_count": 38,
   "id": "8a12eff8",
   "metadata": {},
   "outputs": [],
   "source": [
    "import pickle \n",
    "pickle.dump(model,open('model.pkl','wb'))"
   ]
  },
  {
   "cell_type": "code",
   "execution_count": 39,
   "id": "598e2066",
   "metadata": {},
   "outputs": [
    {
     "data": {
      "text/html": [
       "<div>\n",
       "<style scoped>\n",
       "    .dataframe tbody tr th:only-of-type {\n",
       "        vertical-align: middle;\n",
       "    }\n",
       "\n",
       "    .dataframe tbody tr th {\n",
       "        vertical-align: top;\n",
       "    }\n",
       "\n",
       "    .dataframe thead th {\n",
       "        text-align: right;\n",
       "    }\n",
       "</style>\n",
       "<table border=\"1\" class=\"dataframe\">\n",
       "  <thead>\n",
       "    <tr style=\"text-align: right;\">\n",
       "      <th></th>\n",
       "      <th>Income</th>\n",
       "      <th>Age</th>\n",
       "      <th>Experience</th>\n",
       "      <th>Profession</th>\n",
       "      <th>CURRENT_JOB_YRS</th>\n",
       "      <th>CURRENT_HOUSE_YRS</th>\n",
       "      <th>single</th>\n",
       "      <th>owned</th>\n",
       "      <th>rented</th>\n",
       "      <th>yes</th>\n",
       "    </tr>\n",
       "  </thead>\n",
       "  <tbody>\n",
       "    <tr>\n",
       "      <th>0</th>\n",
       "      <td>1303834</td>\n",
       "      <td>23</td>\n",
       "      <td>3</td>\n",
       "      <td>33</td>\n",
       "      <td>3</td>\n",
       "      <td>13</td>\n",
       "      <td>1</td>\n",
       "      <td>0</td>\n",
       "      <td>1</td>\n",
       "      <td>0</td>\n",
       "    </tr>\n",
       "    <tr>\n",
       "      <th>1</th>\n",
       "      <td>7574516</td>\n",
       "      <td>40</td>\n",
       "      <td>10</td>\n",
       "      <td>43</td>\n",
       "      <td>9</td>\n",
       "      <td>13</td>\n",
       "      <td>1</td>\n",
       "      <td>0</td>\n",
       "      <td>1</td>\n",
       "      <td>0</td>\n",
       "    </tr>\n",
       "    <tr>\n",
       "      <th>2</th>\n",
       "      <td>3991815</td>\n",
       "      <td>66</td>\n",
       "      <td>4</td>\n",
       "      <td>47</td>\n",
       "      <td>4</td>\n",
       "      <td>10</td>\n",
       "      <td>0</td>\n",
       "      <td>0</td>\n",
       "      <td>1</td>\n",
       "      <td>0</td>\n",
       "    </tr>\n",
       "    <tr>\n",
       "      <th>3</th>\n",
       "      <td>6256451</td>\n",
       "      <td>41</td>\n",
       "      <td>2</td>\n",
       "      <td>43</td>\n",
       "      <td>2</td>\n",
       "      <td>12</td>\n",
       "      <td>1</td>\n",
       "      <td>0</td>\n",
       "      <td>1</td>\n",
       "      <td>1</td>\n",
       "    </tr>\n",
       "    <tr>\n",
       "      <th>4</th>\n",
       "      <td>5768871</td>\n",
       "      <td>47</td>\n",
       "      <td>11</td>\n",
       "      <td>11</td>\n",
       "      <td>3</td>\n",
       "      <td>14</td>\n",
       "      <td>1</td>\n",
       "      <td>0</td>\n",
       "      <td>1</td>\n",
       "      <td>0</td>\n",
       "    </tr>\n",
       "    <tr>\n",
       "      <th>...</th>\n",
       "      <td>...</td>\n",
       "      <td>...</td>\n",
       "      <td>...</td>\n",
       "      <td>...</td>\n",
       "      <td>...</td>\n",
       "      <td>...</td>\n",
       "      <td>...</td>\n",
       "      <td>...</td>\n",
       "      <td>...</td>\n",
       "      <td>...</td>\n",
       "    </tr>\n",
       "    <tr>\n",
       "      <th>251995</th>\n",
       "      <td>8154883</td>\n",
       "      <td>43</td>\n",
       "      <td>13</td>\n",
       "      <td>45</td>\n",
       "      <td>6</td>\n",
       "      <td>11</td>\n",
       "      <td>1</td>\n",
       "      <td>0</td>\n",
       "      <td>1</td>\n",
       "      <td>0</td>\n",
       "    </tr>\n",
       "    <tr>\n",
       "      <th>251996</th>\n",
       "      <td>2843572</td>\n",
       "      <td>26</td>\n",
       "      <td>10</td>\n",
       "      <td>3</td>\n",
       "      <td>6</td>\n",
       "      <td>11</td>\n",
       "      <td>1</td>\n",
       "      <td>0</td>\n",
       "      <td>1</td>\n",
       "      <td>0</td>\n",
       "    </tr>\n",
       "    <tr>\n",
       "      <th>251997</th>\n",
       "      <td>4522448</td>\n",
       "      <td>46</td>\n",
       "      <td>7</td>\n",
       "      <td>17</td>\n",
       "      <td>7</td>\n",
       "      <td>12</td>\n",
       "      <td>1</td>\n",
       "      <td>0</td>\n",
       "      <td>1</td>\n",
       "      <td>0</td>\n",
       "    </tr>\n",
       "    <tr>\n",
       "      <th>251998</th>\n",
       "      <td>6507128</td>\n",
       "      <td>45</td>\n",
       "      <td>0</td>\n",
       "      <td>27</td>\n",
       "      <td>0</td>\n",
       "      <td>10</td>\n",
       "      <td>1</td>\n",
       "      <td>0</td>\n",
       "      <td>1</td>\n",
       "      <td>0</td>\n",
       "    </tr>\n",
       "    <tr>\n",
       "      <th>251999</th>\n",
       "      <td>9070230</td>\n",
       "      <td>70</td>\n",
       "      <td>17</td>\n",
       "      <td>44</td>\n",
       "      <td>7</td>\n",
       "      <td>11</td>\n",
       "      <td>1</td>\n",
       "      <td>0</td>\n",
       "      <td>1</td>\n",
       "      <td>0</td>\n",
       "    </tr>\n",
       "  </tbody>\n",
       "</table>\n",
       "<p>252000 rows × 10 columns</p>\n",
       "</div>"
      ],
      "text/plain": [
       "         Income  Age  Experience  Profession  CURRENT_JOB_YRS  \\\n",
       "0       1303834   23           3          33                3   \n",
       "1       7574516   40          10          43                9   \n",
       "2       3991815   66           4          47                4   \n",
       "3       6256451   41           2          43                2   \n",
       "4       5768871   47          11          11                3   \n",
       "...         ...  ...         ...         ...              ...   \n",
       "251995  8154883   43          13          45                6   \n",
       "251996  2843572   26          10           3                6   \n",
       "251997  4522448   46           7          17                7   \n",
       "251998  6507128   45           0          27                0   \n",
       "251999  9070230   70          17          44                7   \n",
       "\n",
       "        CURRENT_HOUSE_YRS  single  owned  rented  yes  \n",
       "0                      13       1      0       1    0  \n",
       "1                      13       1      0       1    0  \n",
       "2                      10       0      0       1    0  \n",
       "3                      12       1      0       1    1  \n",
       "4                      14       1      0       1    0  \n",
       "...                   ...     ...    ...     ...  ...  \n",
       "251995                 11       1      0       1    0  \n",
       "251996                 11       1      0       1    0  \n",
       "251997                 12       1      0       1    0  \n",
       "251998                 10       1      0       1    0  \n",
       "251999                 11       1      0       1    0  \n",
       "\n",
       "[252000 rows x 10 columns]"
      ]
     },
     "execution_count": 39,
     "metadata": {},
     "output_type": "execute_result"
    }
   ],
   "source": [
    "X"
   ]
  },
  {
   "cell_type": "code",
   "execution_count": null,
   "id": "2fba8fa7",
   "metadata": {},
   "outputs": [],
   "source": []
  }
 ],
 "metadata": {
  "kernelspec": {
   "display_name": "Python 3",
   "language": "python",
   "name": "python3"
  },
  "language_info": {
   "codemirror_mode": {
    "name": "ipython",
    "version": 3
   },
   "file_extension": ".py",
   "mimetype": "text/x-python",
   "name": "python",
   "nbconvert_exporter": "python",
   "pygments_lexer": "ipython3",
   "version": "3.8.8"
  }
 },
 "nbformat": 4,
 "nbformat_minor": 5
}
